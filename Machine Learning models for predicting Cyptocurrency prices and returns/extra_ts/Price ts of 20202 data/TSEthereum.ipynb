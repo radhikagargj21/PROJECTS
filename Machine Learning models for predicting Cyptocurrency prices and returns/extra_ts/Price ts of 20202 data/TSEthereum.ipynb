{
 "cells": [
  {
   "cell_type": "markdown",
   "metadata": {},
   "source": [
    "# Time Series Analysis of Cryptocurrency Bitcoin"
   ]
  },
  {
   "cell_type": "code",
   "execution_count": 1,
   "metadata": {},
   "outputs": [],
   "source": [
    "import numpy as np\n",
    "import pandas as pd\n",
    "import seaborn as sns\n",
    "import matplotlib.pyplot as plt\n",
    "%matplotlib inline"
   ]
  },
  {
   "cell_type": "code",
   "execution_count": 2,
   "metadata": {},
   "outputs": [
    {
     "data": {
      "text/html": [
       "<div>\n",
       "<style scoped>\n",
       "    .dataframe tbody tr th:only-of-type {\n",
       "        vertical-align: middle;\n",
       "    }\n",
       "\n",
       "    .dataframe tbody tr th {\n",
       "        vertical-align: top;\n",
       "    }\n",
       "\n",
       "    .dataframe thead th {\n",
       "        text-align: right;\n",
       "    }\n",
       "</style>\n",
       "<table border=\"1\" class=\"dataframe\">\n",
       "  <thead>\n",
       "    <tr style=\"text-align: right;\">\n",
       "      <th></th>\n",
       "      <th>Date</th>\n",
       "      <th>Price</th>\n",
       "      <th>Open</th>\n",
       "      <th>High</th>\n",
       "      <th>Low</th>\n",
       "      <th>Vol.</th>\n",
       "      <th>Change %</th>\n",
       "      <th>MktCap</th>\n",
       "      <th>Tradecount</th>\n",
       "    </tr>\n",
       "  </thead>\n",
       "  <tbody>\n",
       "    <tr>\n",
       "      <th>426</th>\n",
       "      <td>2021-03-02</td>\n",
       "      <td>1488.62</td>\n",
       "      <td>1570.00</td>\n",
       "      <td>1602.13</td>\n",
       "      <td>1457.22</td>\n",
       "      <td>1740000.0</td>\n",
       "      <td>-0.0518</td>\n",
       "      <td>171484736319</td>\n",
       "      <td>966176</td>\n",
       "    </tr>\n",
       "    <tr>\n",
       "      <th>427</th>\n",
       "      <td>2021-03-03</td>\n",
       "      <td>1571.05</td>\n",
       "      <td>1488.80</td>\n",
       "      <td>1653.04</td>\n",
       "      <td>1477.72</td>\n",
       "      <td>1170000.0</td>\n",
       "      <td>0.0554</td>\n",
       "      <td>181069778316</td>\n",
       "      <td>1237215</td>\n",
       "    </tr>\n",
       "    <tr>\n",
       "      <th>428</th>\n",
       "      <td>2021-03-04</td>\n",
       "      <td>1538.61</td>\n",
       "      <td>1567.84</td>\n",
       "      <td>1623.73</td>\n",
       "      <td>1506.86</td>\n",
       "      <td>1700000.0</td>\n",
       "      <td>-0.0206</td>\n",
       "      <td>177191062441</td>\n",
       "      <td>1125118</td>\n",
       "    </tr>\n",
       "    <tr>\n",
       "      <th>429</th>\n",
       "      <td>2021-03-05</td>\n",
       "      <td>1530.29</td>\n",
       "      <td>1539.73</td>\n",
       "      <td>1548.71</td>\n",
       "      <td>1443.32</td>\n",
       "      <td>1670000.0</td>\n",
       "      <td>-0.0054</td>\n",
       "      <td>176219185802</td>\n",
       "      <td>1000913</td>\n",
       "    </tr>\n",
       "    <tr>\n",
       "      <th>430</th>\n",
       "      <td>2021-03-06</td>\n",
       "      <td>1649.19</td>\n",
       "      <td>1530.24</td>\n",
       "      <td>1670.01</td>\n",
       "      <td>1514.62</td>\n",
       "      <td>2070000.0</td>\n",
       "      <td>0.0777</td>\n",
       "      <td>190201808027</td>\n",
       "      <td>1188531</td>\n",
       "    </tr>\n",
       "  </tbody>\n",
       "</table>\n",
       "</div>"
      ],
      "text/plain": [
       "          Date    Price     Open     High      Low       Vol.  Change %  \\\n",
       "426 2021-03-02  1488.62  1570.00  1602.13  1457.22  1740000.0   -0.0518   \n",
       "427 2021-03-03  1571.05  1488.80  1653.04  1477.72  1170000.0    0.0554   \n",
       "428 2021-03-04  1538.61  1567.84  1623.73  1506.86  1700000.0   -0.0206   \n",
       "429 2021-03-05  1530.29  1539.73  1548.71  1443.32  1670000.0   -0.0054   \n",
       "430 2021-03-06  1649.19  1530.24  1670.01  1514.62  2070000.0    0.0777   \n",
       "\n",
       "           MktCap  Tradecount  \n",
       "426  171484736319      966176  \n",
       "427  181069778316     1237215  \n",
       "428  177191062441     1125118  \n",
       "429  176219185802     1000913  \n",
       "430  190201808027     1188531  "
      ]
     },
     "execution_count": 2,
     "metadata": {},
     "output_type": "execute_result"
    }
   ],
   "source": [
    "df=pd.read_excel(r'/Users/radhikagarg/Desktop/TP TERM 3/TP/data/Ethereum.xlsx',sheet_name='ethereum_2020')\n",
    "df.tail()"
   ]
  },
  {
   "cell_type": "code",
   "execution_count": 3,
   "metadata": {},
   "outputs": [
    {
     "name": "stdout",
     "output_type": "stream",
     "text": [
      "<class 'pandas.core.frame.DataFrame'>\n",
      "RangeIndex: 431 entries, 0 to 430\n",
      "Data columns (total 9 columns):\n",
      " #   Column      Non-Null Count  Dtype         \n",
      "---  ------      --------------  -----         \n",
      " 0   Date        431 non-null    datetime64[ns]\n",
      " 1   Price       431 non-null    float64       \n",
      " 2   Open        431 non-null    float64       \n",
      " 3   High        431 non-null    float64       \n",
      " 4   Low         431 non-null    float64       \n",
      " 5   Vol.        431 non-null    float64       \n",
      " 6   Change %    431 non-null    float64       \n",
      " 7   MktCap      431 non-null    int64         \n",
      " 8   Tradecount  431 non-null    int64         \n",
      "dtypes: datetime64[ns](1), float64(6), int64(2)\n",
      "memory usage: 30.4 KB\n",
      "None\n"
     ]
    }
   ],
   "source": [
    "print(df.info())\n",
    "# 1161 rows depicting daily bitcoin prices from 2018 to 2021 with no issing data values in any feild"
   ]
  },
  {
   "cell_type": "code",
   "execution_count": 4,
   "metadata": {},
   "outputs": [
    {
     "data": {
      "text/plain": [
       "Text(0.5, 1.0, 'Closing price Trend')"
      ]
     },
     "execution_count": 4,
     "metadata": {},
     "output_type": "execute_result"
    },
    {
     "data": {
      "image/png": "[encoded data removed]",
      "text/plain": [
       "<Figure size 432x288 with 1 Axes>"
      ]
     },
     "metadata": {
      "needs_background": "light"
     },
     "output_type": "display_data"
    }
   ],
   "source": [
    "# PLOTTING Closing Prices against Dates.\n",
    "plt.scatter(df.Date,df.Price)\n",
    "plt.xlabel(\"Date\")\n",
    "plt.ylabel(\"Closing price\")\n",
    "plt.title(\"Closing price Trend\")"
   ]
  },
  {
   "cell_type": "code",
   "execution_count": 5,
   "metadata": {},
   "outputs": [
    {
     "data": {
      "text/html": [
       "<div>\n",
       "<style scoped>\n",
       "    .dataframe tbody tr th:only-of-type {\n",
       "        vertical-align: middle;\n",
       "    }\n",
       "\n",
       "    .dataframe tbody tr th {\n",
       "        vertical-align: top;\n",
       "    }\n",
       "\n",
       "    .dataframe thead th {\n",
       "        text-align: right;\n",
       "    }\n",
       "</style>\n",
       "<table border=\"1\" class=\"dataframe\">\n",
       "  <thead>\n",
       "    <tr style=\"text-align: right;\">\n",
       "      <th></th>\n",
       "      <th>Price</th>\n",
       "      <th>Open</th>\n",
       "      <th>High</th>\n",
       "      <th>Low</th>\n",
       "      <th>Vol.</th>\n",
       "      <th>Change %</th>\n",
       "      <th>MktCap</th>\n",
       "      <th>Tradecount</th>\n",
       "    </tr>\n",
       "  </thead>\n",
       "  <tbody>\n",
       "    <tr>\n",
       "      <th>count</th>\n",
       "      <td>431.000000</td>\n",
       "      <td>431.000000</td>\n",
       "      <td>431.000000</td>\n",
       "      <td>431.000000</td>\n",
       "      <td>4.310000e+02</td>\n",
       "      <td>431.000000</td>\n",
       "      <td>4.310000e+02</td>\n",
       "      <td>4.310000e+02</td>\n",
       "    </tr>\n",
       "    <tr>\n",
       "      <th>mean</th>\n",
       "      <td>479.451508</td>\n",
       "      <td>475.958956</td>\n",
       "      <td>495.711671</td>\n",
       "      <td>455.460673</td>\n",
       "      <td>1.234897e+07</td>\n",
       "      <td>0.007494</td>\n",
       "      <td>5.434311e+10</td>\n",
       "      <td>4.835217e+05</td>\n",
       "    </tr>\n",
       "    <tr>\n",
       "      <th>std</th>\n",
       "      <td>444.115585</td>\n",
       "      <td>440.864717</td>\n",
       "      <td>462.947305</td>\n",
       "      <td>415.525640</td>\n",
       "      <td>9.990658e+06</td>\n",
       "      <td>0.054559</td>\n",
       "      <td>5.118710e+10</td>\n",
       "      <td>4.234174e+05</td>\n",
       "    </tr>\n",
       "    <tr>\n",
       "      <th>min</th>\n",
       "      <td>107.900000</td>\n",
       "      <td>107.870000</td>\n",
       "      <td>117.910000</td>\n",
       "      <td>88.500000</td>\n",
       "      <td>8.143100e+05</td>\n",
       "      <td>-0.445500</td>\n",
       "      <td>1.218048e+10</td>\n",
       "      <td>7.588800e+04</td>\n",
       "    </tr>\n",
       "    <tr>\n",
       "      <th>25%</th>\n",
       "      <td>209.910000</td>\n",
       "      <td>209.025000</td>\n",
       "      <td>215.215000</td>\n",
       "      <td>202.170000</td>\n",
       "      <td>5.385000e+06</td>\n",
       "      <td>-0.015850</td>\n",
       "      <td>2.329707e+10</td>\n",
       "      <td>2.146815e+05</td>\n",
       "    </tr>\n",
       "    <tr>\n",
       "      <th>50%</th>\n",
       "      <td>340.610000</td>\n",
       "      <td>337.460000</td>\n",
       "      <td>349.340000</td>\n",
       "      <td>317.270000</td>\n",
       "      <td>9.170000e+06</td>\n",
       "      <td>0.004000</td>\n",
       "      <td>3.847620e+10</td>\n",
       "      <td>3.231590e+05</td>\n",
       "    </tr>\n",
       "    <tr>\n",
       "      <th>75%</th>\n",
       "      <td>480.235000</td>\n",
       "      <td>477.465000</td>\n",
       "      <td>491.640000</td>\n",
       "      <td>462.665000</td>\n",
       "      <td>1.746500e+07</td>\n",
       "      <td>0.033050</td>\n",
       "      <td>5.445931e+10</td>\n",
       "      <td>5.477630e+05</td>\n",
       "    </tr>\n",
       "    <tr>\n",
       "      <th>max</th>\n",
       "      <td>1955.590000</td>\n",
       "      <td>1955.540000</td>\n",
       "      <td>2040.790000</td>\n",
       "      <td>1892.700000</td>\n",
       "      <td>6.070000e+07</td>\n",
       "      <td>0.258800</td>\n",
       "      <td>2.249103e+11</td>\n",
       "      <td>2.557613e+06</td>\n",
       "    </tr>\n",
       "  </tbody>\n",
       "</table>\n",
       "</div>"
      ],
      "text/plain": [
       "             Price         Open         High          Low          Vol.  \\\n",
       "count   431.000000   431.000000   431.000000   431.000000  4.310000e+02   \n",
       "mean    479.451508   475.958956   495.711671   455.460673  1.234897e+07   \n",
       "std     444.115585   440.864717   462.947305   415.525640  9.990658e+06   \n",
       "min     107.900000   107.870000   117.910000    88.500000  8.143100e+05   \n",
       "25%     209.910000   209.025000   215.215000   202.170000  5.385000e+06   \n",
       "50%     340.610000   337.460000   349.340000   317.270000  9.170000e+06   \n",
       "75%     480.235000   477.465000   491.640000   462.665000  1.746500e+07   \n",
       "max    1955.590000  1955.540000  2040.790000  1892.700000  6.070000e+07   \n",
       "\n",
       "         Change %        MktCap    Tradecount  \n",
       "count  431.000000  4.310000e+02  4.310000e+02  \n",
       "mean     0.007494  5.434311e+10  4.835217e+05  \n",
       "std      0.054559  5.118710e+10  4.234174e+05  \n",
       "min     -0.445500  1.218048e+10  7.588800e+04  \n",
       "25%     -0.015850  2.329707e+10  2.146815e+05  \n",
       "50%      0.004000  3.847620e+10  3.231590e+05  \n",
       "75%      0.033050  5.445931e+10  5.477630e+05  \n",
       "max      0.258800  2.249103e+11  2.557613e+06  "
      ]
     },
     "execution_count": 5,
     "metadata": {},
     "output_type": "execute_result"
    }
   ],
   "source": [
    "import datetime\n",
    "df['Date']=pd.to_datetime(df['Date']) # setting month as index to exclude month from describe calcs\n",
    "df.head()\n",
    "df.describe()"
   ]
  },
  {
   "cell_type": "code",
   "execution_count": 6,
   "metadata": {},
   "outputs": [],
   "source": [
    "df.set_index('Date',inplace=True)"
   ]
  },
  {
   "cell_type": "markdown",
   "metadata": {},
   "source": [
    "# Differencing"
   ]
  },
  {
   "cell_type": "markdown",
   "metadata": {},
   "source": [
    "Time-Series Components\n",
    "There are three components of time-series data:\n",
    "Trend: the movement of the data on a larger scale (moving average)\n",
    "Seasonality: repeated seasonal fluctuations\n",
    "Residual: any fluctuations not captured from trend or seasonality (should be random)\n",
    "A time series can be modeled as an additive or multiplicative time-series depending on its nature of trend and seasonality.\n",
    "Additive Time Series\n",
    "observed = Trend + Seasonal + Residual\n",
    "Multiplicative Time Series\n",
    "observed = Trend × Seasonal × Residual\n",
    "\n",
    "Based on data values, if the magnitude of seasonality changes over time (see image on the right), then the data \n",
    "is multiplicative. Our data, however, does not show clear evidence of growing or shrinking magnitude of seasonality,\n",
    "so we assume it is an additive time series. Please take a look at it once again.\n",
    "\n",
    "we are using freq= 7*4*3 (~3 months) to model our data. You can tune it by holding into trend visualizations. If the trend's visualizations are smooth, and the seasonal has patterns, then it's good to continue. \n",
    "The extrapolate_trend='freq' will make the length of the residual, trend, and seasonal the same by taking care of any missing values at the beginning of the series. "
   ]
  },
  {
   "cell_type": "code",
   "execution_count": 45,
   "metadata": {},
   "outputs": [],
   "source": [
    "from statsmodels.tsa.stattools import adfuller\n",
    "def test_stationarity(timeseries):\n",
    "    \n",
    "    #Determing rolling statistics\n",
    "    # Super not sure how to determin this... We'll have to do some research\n",
    "    # 7 to 14 days seems reasonable to find overall trends\n",
    "    rolmean = pd.Series(timeseries).rolling(window=14).mean()\n",
    "\n",
    "    #Plot rolling statistics:\n",
    "    fig = plt.figure(figsize=(12, 8))\n",
    "    orig = plt.plot(timeseries, color='blue',label='Original')\n",
    "    mean = plt.plot(rolmean, color='red', label='Rolling Mean')\n",
    "    plt.legend(loc='best')\n",
    "    plt.title('Rolling Mean')\n",
    "    plt.show()\n",
    "    \n",
    "    #Perform Dickey-Fuller test:\n",
    "    print('Results of Dickey-Fuller Test:')\n",
    "    dftest = adfuller(timeseries, autolag='AIC')\n",
    "    dfoutput = pd.Series(dftest[0:4], index=['Test Statistic','p-value','#Lags Used','Number of Observations Used'])\n",
    "    for key,value in list(dftest[4].items()):\n",
    "        dfoutput['Critical Value (%s)'%key] = value\n",
    "    print(dfoutput)"
   ]
  },
  {
   "cell_type": "code",
   "execution_count": 47,
   "metadata": {},
   "outputs": [
    {
     "data": {
      "image/png": "[encoded data removed]",
      "text/plain": [
       "<Figure size 864x576 with 1 Axes>"
      ]
     },
     "metadata": {
      "needs_background": "light"
     },
     "output_type": "display_data"
    },
    {
     "name": "stdout",
     "output_type": "stream",
     "text": [
      "Results of Dickey-Fuller Test:\n",
      "Test Statistic                  -3.946621\n",
      "p-value                          0.001717\n",
      "#Lags Used                      18.000000\n",
      "Number of Observations Used    409.000000\n",
      "Critical Value (1%)             -3.446440\n",
      "Critical Value (5%)             -2.868633\n",
      "Critical Value (10%)            -2.570548\n",
      "dtype: float64\n"
     ]
    }
   ],
   "source": [
    "#prev 2 day dependency is seen\n",
    "df['third_difference'] = df.Price - df.Price.shift(3)  \n",
    "test_stationarity(df.third_difference.dropna(inplace=False))"
   ]
  },
  {
   "cell_type": "code",
   "execution_count": 48,
   "metadata": {},
   "outputs": [
    {
     "data": {
      "image/png": "[encoded data removed]",
      "text/plain": [
       "<Figure size 864x576 with 1 Axes>"
      ]
     },
     "metadata": {
      "needs_background": "light"
     },
     "output_type": "display_data"
    },
    {
     "name": "stdout",
     "output_type": "stream",
     "text": [
      "Results of Dickey-Fuller Test:\n",
      "Test Statistic                 -2.515168\n",
      "p-value                         0.111827\n",
      "#Lags Used                      0.000000\n",
      "Number of Observations Used    65.000000\n",
      "Critical Value (1%)            -3.535217\n",
      "Critical Value (5%)            -2.907154\n",
      "Critical Value (10%)           -2.591103\n",
      "dtype: float64\n"
     ]
    }
   ],
   "source": [
    "#prev 365 day dependency/annual is not seen\n",
    "df['seasonal_difference'] = df.Price - df.Price.shift(365)  \n",
    "test_stationarity(df.seasonal_difference.dropna(inplace=False))"
   ]
  },
  {
   "cell_type": "code",
   "execution_count": 49,
   "metadata": {},
   "outputs": [
    {
     "data": {
      "image/png": "[encoded data removed]",
      "text/plain": [
       "<Figure size 864x576 with 2 Axes>"
      ]
     },
     "metadata": {
      "needs_background": "light"
     },
     "output_type": "display_data"
    }
   ],
   "source": [
    "import statsmodels.api as sm\n",
    "fig = plt.figure(figsize=(12,8))\n",
    "ax1 = fig.add_subplot(211)\n",
    "fig = sm.graphics.tsa.plot_acf(df.third_difference.iloc[3:], lags=20, ax=ax1)\n",
    "ax2 = fig.add_subplot(212)\n",
    "fig = sm.graphics.tsa.plot_pacf(df.third_difference.iloc[3:], lags=20, ax=ax2)\n",
    "plt.show()\n",
    "\n",
    "#p=3,\n",
    "#d=3,\n",
    "#q=2,"
   ]
  },
  {
   "cell_type": "code",
   "execution_count": 12,
   "metadata": {},
   "outputs": [
    {
     "data": {
      "text/html": [
       "<div>\n",
       "<style scoped>\n",
       "    .dataframe tbody tr th:only-of-type {\n",
       "        vertical-align: middle;\n",
       "    }\n",
       "\n",
       "    .dataframe tbody tr th {\n",
       "        vertical-align: top;\n",
       "    }\n",
       "\n",
       "    .dataframe thead th {\n",
       "        text-align: right;\n",
       "    }\n",
       "</style>\n",
       "<table border=\"1\" class=\"dataframe\">\n",
       "  <thead>\n",
       "    <tr style=\"text-align: right;\">\n",
       "      <th></th>\n",
       "      <th>Price</th>\n",
       "      <th>Open</th>\n",
       "      <th>High</th>\n",
       "      <th>Low</th>\n",
       "      <th>Vol.</th>\n",
       "      <th>Change %</th>\n",
       "      <th>MktCap</th>\n",
       "      <th>Tradecount</th>\n",
       "      <th>second_difference</th>\n",
       "      <th>seasonal_difference</th>\n",
       "    </tr>\n",
       "    <tr>\n",
       "      <th>Date</th>\n",
       "      <th></th>\n",
       "      <th></th>\n",
       "      <th></th>\n",
       "      <th></th>\n",
       "      <th></th>\n",
       "      <th></th>\n",
       "      <th></th>\n",
       "      <th></th>\n",
       "      <th></th>\n",
       "      <th></th>\n",
       "    </tr>\n",
       "  </thead>\n",
       "  <tbody>\n",
       "    <tr>\n",
       "      <th>2021-03-02</th>\n",
       "      <td>1488.62</td>\n",
       "      <td>1570.00</td>\n",
       "      <td>1602.13</td>\n",
       "      <td>1457.22</td>\n",
       "      <td>1740000.0</td>\n",
       "      <td>-0.0518</td>\n",
       "      <td>171484736319</td>\n",
       "      <td>966176</td>\n",
       "      <td>69.86</td>\n",
       "      <td>1256.75</td>\n",
       "    </tr>\n",
       "    <tr>\n",
       "      <th>2021-03-03</th>\n",
       "      <td>1571.05</td>\n",
       "      <td>1488.80</td>\n",
       "      <td>1653.04</td>\n",
       "      <td>1477.72</td>\n",
       "      <td>1170000.0</td>\n",
       "      <td>0.0554</td>\n",
       "      <td>181069778316</td>\n",
       "      <td>1237215</td>\n",
       "      <td>1.02</td>\n",
       "      <td>1347.11</td>\n",
       "    </tr>\n",
       "    <tr>\n",
       "      <th>2021-03-04</th>\n",
       "      <td>1538.61</td>\n",
       "      <td>1567.84</td>\n",
       "      <td>1623.73</td>\n",
       "      <td>1506.86</td>\n",
       "      <td>1700000.0</td>\n",
       "      <td>-0.0206</td>\n",
       "      <td>177191062441</td>\n",
       "      <td>1125118</td>\n",
       "      <td>49.99</td>\n",
       "      <td>1314.23</td>\n",
       "    </tr>\n",
       "    <tr>\n",
       "      <th>2021-03-05</th>\n",
       "      <td>1530.29</td>\n",
       "      <td>1539.73</td>\n",
       "      <td>1548.71</td>\n",
       "      <td>1443.32</td>\n",
       "      <td>1670000.0</td>\n",
       "      <td>-0.0054</td>\n",
       "      <td>176219185802</td>\n",
       "      <td>1000913</td>\n",
       "      <td>-40.76</td>\n",
       "      <td>1301.84</td>\n",
       "    </tr>\n",
       "    <tr>\n",
       "      <th>2021-03-06</th>\n",
       "      <td>1649.19</td>\n",
       "      <td>1530.24</td>\n",
       "      <td>1670.01</td>\n",
       "      <td>1514.62</td>\n",
       "      <td>2070000.0</td>\n",
       "      <td>0.0777</td>\n",
       "      <td>190201808027</td>\n",
       "      <td>1188531</td>\n",
       "      <td>110.58</td>\n",
       "      <td>1404.29</td>\n",
       "    </tr>\n",
       "  </tbody>\n",
       "</table>\n",
       "</div>"
      ],
      "text/plain": [
       "              Price     Open     High      Low       Vol.  Change %  \\\n",
       "Date                                                                  \n",
       "2021-03-02  1488.62  1570.00  1602.13  1457.22  1740000.0   -0.0518   \n",
       "2021-03-03  1571.05  1488.80  1653.04  1477.72  1170000.0    0.0554   \n",
       "2021-03-04  1538.61  1567.84  1623.73  1506.86  1700000.0   -0.0206   \n",
       "2021-03-05  1530.29  1539.73  1548.71  1443.32  1670000.0   -0.0054   \n",
       "2021-03-06  1649.19  1530.24  1670.01  1514.62  2070000.0    0.0777   \n",
       "\n",
       "                  MktCap  Tradecount  second_difference  seasonal_difference  \n",
       "Date                                                                          \n",
       "2021-03-02  171484736319      966176              69.86              1256.75  \n",
       "2021-03-03  181069778316     1237215               1.02              1347.11  \n",
       "2021-03-04  177191062441     1125118              49.99              1314.23  \n",
       "2021-03-05  176219185802     1000913             -40.76              1301.84  \n",
       "2021-03-06  190201808027     1188531             110.58              1404.29  "
      ]
     },
     "execution_count": 12,
     "metadata": {},
     "output_type": "execute_result"
    }
   ],
   "source": [
    "df.tail()"
   ]
  },
  {
   "cell_type": "markdown",
   "metadata": {},
   "source": [
    "# AR Model"
   ]
  },
  {
   "cell_type": "markdown",
   "metadata": {},
   "source": [
    "ARIMA models will require (p, d, q) arguments as its order, \n",
    "where: \n",
    "- p: The number of lag included in the model, or also called lag order. Previously defined by looking into PACF visualization\n",
    "- d: Order of difference. In previous section, we know that doing a difference once made the data stationary. Thus, we will use d=1 on original data.\n",
    "- q: The size of moving average windows, or also called moving average order. Previously defined by looking into ACF visualization"
   ]
  },
  {
   "cell_type": "code",
   "execution_count": 50,
   "metadata": {},
   "outputs": [
    {
     "ename": "ValueError",
     "evalue": "d > 2 is not supported",
     "output_type": "error",
     "traceback": [
      "\u001b[0;31m---------------------------------------------------------------------------\u001b[0m",
      "\u001b[0;31mValueError\u001b[0m                                Traceback (most recent call last)",
      "\u001b[0;32m<ipython-input-50-09ffb48f1c52>\u001b[0m in \u001b[0;36m<module>\u001b[0;34m\u001b[0m\n\u001b[1;32m      1\u001b[0m \u001b[0;32mfrom\u001b[0m \u001b[0mstatsmodels\u001b[0m\u001b[0;34m.\u001b[0m\u001b[0mtsa\u001b[0m\u001b[0;34m.\u001b[0m\u001b[0marima_model\u001b[0m \u001b[0;32mimport\u001b[0m \u001b[0mARIMA\u001b[0m\u001b[0;34m\u001b[0m\u001b[0;34m\u001b[0m\u001b[0m\n\u001b[0;32m----> 2\u001b[0;31m \u001b[0mmodel\u001b[0m\u001b[0;34m=\u001b[0m\u001b[0mARIMA\u001b[0m\u001b[0;34m(\u001b[0m\u001b[0mdf\u001b[0m\u001b[0;34m[\u001b[0m\u001b[0;34m'Price'\u001b[0m\u001b[0;34m]\u001b[0m\u001b[0;34m,\u001b[0m\u001b[0morder\u001b[0m\u001b[0;34m=\u001b[0m\u001b[0;34m(\u001b[0m\u001b[0;36m2\u001b[0m\u001b[0;34m,\u001b[0m\u001b[0;36m3\u001b[0m\u001b[0;34m,\u001b[0m\u001b[0;36m3\u001b[0m\u001b[0;34m)\u001b[0m\u001b[0;34m)\u001b[0m\u001b[0;34m\u001b[0m\u001b[0;34m\u001b[0m\u001b[0m\n\u001b[0m\u001b[1;32m      3\u001b[0m \u001b[0mmodel_fit\u001b[0m\u001b[0;34m=\u001b[0m\u001b[0mmodel\u001b[0m\u001b[0;34m.\u001b[0m\u001b[0mfit\u001b[0m\u001b[0;34m(\u001b[0m\u001b[0;34m)\u001b[0m\u001b[0;34m\u001b[0m\u001b[0;34m\u001b[0m\u001b[0m\n\u001b[1;32m      4\u001b[0m \u001b[0;34m\u001b[0m\u001b[0m\n\u001b[1;32m      5\u001b[0m \u001b[0;31m#Based on the model summary, all variables (ar and ma) have a p-value <5%. This means that our model\u001b[0m\u001b[0;34m\u001b[0m\u001b[0;34m\u001b[0m\u001b[0;34m\u001b[0m\u001b[0m\n",
      "\u001b[0;32m~/opt/anaconda3/lib/python3.8/site-packages/statsmodels/tsa/arima_model.py\u001b[0m in \u001b[0;36m__new__\u001b[0;34m(cls, endog, order, exog, dates, freq, missing)\u001b[0m\n\u001b[1;32m   1069\u001b[0m         \u001b[0;32melse\u001b[0m\u001b[0;34m:\u001b[0m\u001b[0;34m\u001b[0m\u001b[0;34m\u001b[0m\u001b[0m\n\u001b[1;32m   1070\u001b[0m             \u001b[0mmod\u001b[0m \u001b[0;34m=\u001b[0m \u001b[0msuper\u001b[0m\u001b[0;34m(\u001b[0m\u001b[0mARIMA\u001b[0m\u001b[0;34m,\u001b[0m \u001b[0mcls\u001b[0m\u001b[0;34m)\u001b[0m\u001b[0;34m.\u001b[0m\u001b[0m__new__\u001b[0m\u001b[0;34m(\u001b[0m\u001b[0mcls\u001b[0m\u001b[0;34m)\u001b[0m\u001b[0;34m\u001b[0m\u001b[0;34m\u001b[0m\u001b[0m\n\u001b[0;32m-> 1071\u001b[0;31m             \u001b[0mmod\u001b[0m\u001b[0;34m.\u001b[0m\u001b[0m__init__\u001b[0m\u001b[0;34m(\u001b[0m\u001b[0mendog\u001b[0m\u001b[0;34m,\u001b[0m \u001b[0morder\u001b[0m\u001b[0;34m,\u001b[0m \u001b[0mexog\u001b[0m\u001b[0;34m,\u001b[0m \u001b[0mdates\u001b[0m\u001b[0;34m,\u001b[0m \u001b[0mfreq\u001b[0m\u001b[0;34m,\u001b[0m \u001b[0mmissing\u001b[0m\u001b[0;34m)\u001b[0m\u001b[0;34m\u001b[0m\u001b[0;34m\u001b[0m\u001b[0m\n\u001b[0m\u001b[1;32m   1072\u001b[0m             \u001b[0;32mreturn\u001b[0m \u001b[0mmod\u001b[0m\u001b[0;34m\u001b[0m\u001b[0;34m\u001b[0m\u001b[0m\n\u001b[1;32m   1073\u001b[0m \u001b[0;34m\u001b[0m\u001b[0m\n",
      "\u001b[0;32m~/opt/anaconda3/lib/python3.8/site-packages/statsmodels/tsa/arima_model.py\u001b[0m in \u001b[0;36m__init__\u001b[0;34m(self, endog, order, exog, dates, freq, missing)\u001b[0m\n\u001b[1;32m   1087\u001b[0m             \u001b[0;31m# TODO: to make more general, need to address the d == 2 stuff\u001b[0m\u001b[0;34m\u001b[0m\u001b[0;34m\u001b[0m\u001b[0;34m\u001b[0m\u001b[0m\n\u001b[1;32m   1088\u001b[0m             \u001b[0;31m#  in the predict method\u001b[0m\u001b[0;34m\u001b[0m\u001b[0;34m\u001b[0m\u001b[0;34m\u001b[0m\u001b[0m\n\u001b[0;32m-> 1089\u001b[0;31m             \u001b[0;32mraise\u001b[0m \u001b[0mValueError\u001b[0m\u001b[0;34m(\u001b[0m\u001b[0;34m\"d > 2 is not supported\"\u001b[0m\u001b[0;34m)\u001b[0m\u001b[0;34m\u001b[0m\u001b[0;34m\u001b[0m\u001b[0m\n\u001b[0m\u001b[1;32m   1090\u001b[0m         \u001b[0msuper\u001b[0m\u001b[0;34m(\u001b[0m\u001b[0mARIMA\u001b[0m\u001b[0;34m,\u001b[0m \u001b[0mself\u001b[0m\u001b[0;34m)\u001b[0m\u001b[0;34m.\u001b[0m\u001b[0m__init__\u001b[0m\u001b[0;34m(\u001b[0m\u001b[0mendog\u001b[0m\u001b[0;34m,\u001b[0m \u001b[0;34m(\u001b[0m\u001b[0mp\u001b[0m\u001b[0;34m,\u001b[0m \u001b[0mq\u001b[0m\u001b[0;34m)\u001b[0m\u001b[0;34m,\u001b[0m \u001b[0mexog\u001b[0m\u001b[0;34m,\u001b[0m \u001b[0mdates\u001b[0m\u001b[0;34m,\u001b[0m \u001b[0mfreq\u001b[0m\u001b[0;34m,\u001b[0m \u001b[0mmissing\u001b[0m\u001b[0;34m)\u001b[0m\u001b[0;34m\u001b[0m\u001b[0;34m\u001b[0m\u001b[0m\n\u001b[1;32m   1091\u001b[0m         \u001b[0mself\u001b[0m\u001b[0;34m.\u001b[0m\u001b[0mk_diff\u001b[0m \u001b[0;34m=\u001b[0m \u001b[0md\u001b[0m\u001b[0;34m\u001b[0m\u001b[0;34m\u001b[0m\u001b[0m\n",
      "\u001b[0;31mValueError\u001b[0m: d > 2 is not supported"
     ]
    }
   ],
   "source": [
    "from statsmodels.tsa.arima_model import ARIMA\n",
    "model=ARIMA(df['Price'],order=(2,3,3))\n",
    "model_fit=model.fit()\n",
    "\n",
    "#Based on the model summary, all variables (ar and ma) have a p-value <5%. This means that our model \n",
    "#really fits into the train data. The AIC, BIC, and HQIC is a score to measure the goodness of our model based on \n",
    "#the train data."
   ]
  },
  {
   "cell_type": "code",
   "execution_count": 14,
   "metadata": {},
   "outputs": [
    {
     "data": {
      "text/html": [
       "<table class=\"simpletable\">\n",
       "<caption>ARIMA Model Results</caption>\n",
       "<tr>\n",
       "  <th>Dep. Variable:</th>     <td>D2.Price</td>     <th>  No. Observations:  </th>    <td>429</td>   \n",
       "</tr>\n",
       "<tr>\n",
       "  <th>Model:</th>          <td>ARIMA(2, 2, 2)</td>  <th>  Log Likelihood     </th> <td>-2165.424</td>\n",
       "</tr>\n",
       "<tr>\n",
       "  <th>Method:</th>             <td>css-mle</td>     <th>  S.D. of innovations</th>  <td>37.393</td>  \n",
       "</tr>\n",
       "<tr>\n",
       "  <th>Date:</th>          <td>Sat, 10 Apr 2021</td> <th>  AIC                </th> <td>4342.847</td> \n",
       "</tr>\n",
       "<tr>\n",
       "  <th>Time:</th>              <td>10:54:35</td>     <th>  BIC                </th> <td>4367.216</td> \n",
       "</tr>\n",
       "<tr>\n",
       "  <th>Sample:</th>           <td>01-03-2020</td>    <th>  HQIC               </th> <td>4352.471</td> \n",
       "</tr>\n",
       "<tr>\n",
       "  <th></th>                 <td>- 03-06-2021</td>   <th>                     </th>     <td> </td>    \n",
       "</tr>\n",
       "</table>\n",
       "<table class=\"simpletable\">\n",
       "<tr>\n",
       "         <td></td>           <th>coef</th>     <th>std err</th>      <th>z</th>      <th>P>|z|</th>  <th>[0.025</th>    <th>0.975]</th>  \n",
       "</tr>\n",
       "<tr>\n",
       "  <th>const</th>          <td>    0.0267</td> <td>    0.014</td> <td>    1.900</td> <td> 0.057</td> <td>   -0.001</td> <td>    0.054</td>\n",
       "</tr>\n",
       "<tr>\n",
       "  <th>ar.L1.D2.Price</th> <td>   -0.9373</td> <td>    0.089</td> <td>  -10.486</td> <td> 0.000</td> <td>   -1.112</td> <td>   -0.762</td>\n",
       "</tr>\n",
       "<tr>\n",
       "  <th>ar.L2.D2.Price</th> <td>   -0.0135</td> <td>    0.052</td> <td>   -0.262</td> <td> 0.793</td> <td>   -0.115</td> <td>    0.088</td>\n",
       "</tr>\n",
       "<tr>\n",
       "  <th>ma.L1.D2.Price</th> <td>   -0.1137</td> <td>    0.075</td> <td>   -1.518</td> <td> 0.129</td> <td>   -0.261</td> <td>    0.033</td>\n",
       "</tr>\n",
       "<tr>\n",
       "  <th>ma.L2.D2.Price</th> <td>   -0.8863</td> <td>    0.075</td> <td>  -11.841</td> <td> 0.000</td> <td>   -1.033</td> <td>   -0.740</td>\n",
       "</tr>\n",
       "</table>\n",
       "<table class=\"simpletable\">\n",
       "<caption>Roots</caption>\n",
       "<tr>\n",
       "    <td></td>   <th>            Real</th>  <th>         Imaginary</th> <th>         Modulus</th>  <th>        Frequency</th>\n",
       "</tr>\n",
       "<tr>\n",
       "  <th>AR.1</th> <td>          -1.0839</td> <td>          +0.0000j</td> <td>           1.0839</td> <td>           0.5000</td>\n",
       "</tr>\n",
       "<tr>\n",
       "  <th>AR.2</th> <td>         -68.2318</td> <td>          +0.0000j</td> <td>          68.2318</td> <td>           0.5000</td>\n",
       "</tr>\n",
       "<tr>\n",
       "  <th>MA.1</th> <td>           1.0000</td> <td>          +0.0000j</td> <td>           1.0000</td> <td>           0.0000</td>\n",
       "</tr>\n",
       "<tr>\n",
       "  <th>MA.2</th> <td>          -1.1283</td> <td>          +0.0000j</td> <td>           1.1283</td> <td>           0.5000</td>\n",
       "</tr>\n",
       "</table>"
      ],
      "text/plain": [
       "<class 'statsmodels.iolib.summary.Summary'>\n",
       "\"\"\"\n",
       "                             ARIMA Model Results                              \n",
       "==============================================================================\n",
       "Dep. Variable:               D2.Price   No. Observations:                  429\n",
       "Model:                 ARIMA(2, 2, 2)   Log Likelihood               -2165.424\n",
       "Method:                       css-mle   S.D. of innovations             37.393\n",
       "Date:                Sat, 10 Apr 2021   AIC                           4342.847\n",
       "Time:                        10:54:35   BIC                           4367.216\n",
       "Sample:                    01-03-2020   HQIC                          4352.471\n",
       "                         - 03-06-2021                                         \n",
       "==================================================================================\n",
       "                     coef    std err          z      P>|z|      [0.025      0.975]\n",
       "----------------------------------------------------------------------------------\n",
       "const              0.0267      0.014      1.900      0.057      -0.001       0.054\n",
       "ar.L1.D2.Price    -0.9373      0.089    -10.486      0.000      -1.112      -0.762\n",
       "ar.L2.D2.Price    -0.0135      0.052     -0.262      0.793      -0.115       0.088\n",
       "ma.L1.D2.Price    -0.1137      0.075     -1.518      0.129      -0.261       0.033\n",
       "ma.L2.D2.Price    -0.8863      0.075    -11.841      0.000      -1.033      -0.740\n",
       "                                    Roots                                    \n",
       "=============================================================================\n",
       "                  Real          Imaginary           Modulus         Frequency\n",
       "-----------------------------------------------------------------------------\n",
       "AR.1           -1.0839           +0.0000j            1.0839            0.5000\n",
       "AR.2          -68.2318           +0.0000j           68.2318            0.5000\n",
       "MA.1            1.0000           +0.0000j            1.0000            0.0000\n",
       "MA.2           -1.1283           +0.0000j            1.1283            0.5000\n",
       "-----------------------------------------------------------------------------\n",
       "\"\"\""
      ]
     },
     "execution_count": 14,
     "metadata": {},
     "output_type": "execute_result"
    }
   ],
   "source": [
    "model_fit.summary()"
   ]
  },
  {
   "cell_type": "code",
   "execution_count": 51,
   "metadata": {
    "scrolled": false
   },
   "outputs": [
    {
     "name": "stdout",
     "output_type": "stream",
     "text": [
      "Performing stepwise search to minimize aic\n",
      " ARIMA(1,1,1)(0,0,0)[0] intercept   : AIC=4345.418, Time=0.12 sec\n",
      " ARIMA(0,1,0)(0,0,0)[0] intercept   : AIC=4345.726, Time=0.01 sec\n",
      " ARIMA(1,1,0)(0,0,0)[0] intercept   : AIC=4346.399, Time=0.01 sec\n",
      " ARIMA(0,1,1)(0,0,0)[0] intercept   : AIC=4346.510, Time=0.06 sec\n",
      " ARIMA(0,1,0)(0,0,0)[0]             : AIC=4347.483, Time=0.01 sec\n",
      " ARIMA(2,1,1)(0,0,0)[0] intercept   : AIC=4349.457, Time=0.09 sec\n",
      " ARIMA(1,1,2)(0,0,0)[0] intercept   : AIC=4349.419, Time=0.11 sec\n",
      " ARIMA(0,1,2)(0,0,0)[0] intercept   : AIC=4347.511, Time=0.06 sec\n",
      " ARIMA(2,1,0)(0,0,0)[0] intercept   : AIC=4347.598, Time=0.04 sec\n",
      " ARIMA(2,1,2)(0,0,0)[0] intercept   : AIC=4328.628, Time=0.33 sec\n",
      " ARIMA(3,1,2)(0,0,0)[0] intercept   : AIC=4326.776, Time=0.35 sec\n",
      " ARIMA(3,1,1)(0,0,0)[0] intercept   : AIC=4351.410, Time=0.11 sec\n",
      " ARIMA(3,1,3)(0,0,0)[0] intercept   : AIC=4332.704, Time=0.39 sec\n",
      " ARIMA(2,1,3)(0,0,0)[0] intercept   : AIC=4329.563, Time=0.35 sec\n",
      " ARIMA(3,1,2)(0,0,0)[0]             : AIC=4354.998, Time=0.11 sec\n",
      "\n",
      "Best model:  ARIMA(3,1,2)(0,0,0)[0] intercept\n",
      "Total fit time: 2.149 seconds\n"
     ]
    },
    {
     "data": {
      "text/html": [
       "<table class=\"simpletable\">\n",
       "<caption>SARIMAX Results</caption>\n",
       "<tr>\n",
       "  <th>Dep. Variable:</th>           <td>y</td>        <th>  No. Observations:  </th>    <td>431</td>   \n",
       "</tr>\n",
       "<tr>\n",
       "  <th>Model:</th>           <td>SARIMAX(3, 1, 2)</td> <th>  Log Likelihood     </th> <td>-2156.388</td>\n",
       "</tr>\n",
       "<tr>\n",
       "  <th>Date:</th>            <td>Sat, 10 Apr 2021</td> <th>  AIC                </th> <td>4326.776</td> \n",
       "</tr>\n",
       "<tr>\n",
       "  <th>Time:</th>                <td>11:38:58</td>     <th>  BIC                </th> <td>4355.222</td> \n",
       "</tr>\n",
       "<tr>\n",
       "  <th>Sample:</th>                  <td>0</td>        <th>  HQIC               </th> <td>4338.008</td> \n",
       "</tr>\n",
       "<tr>\n",
       "  <th></th>                      <td> - 431</td>      <th>                     </th>     <td> </td>    \n",
       "</tr>\n",
       "<tr>\n",
       "  <th>Covariance Type:</th>        <td>opg</td>       <th>                     </th>     <td> </td>    \n",
       "</tr>\n",
       "</table>\n",
       "<table class=\"simpletable\">\n",
       "<tr>\n",
       "      <td></td>         <th>coef</th>     <th>std err</th>      <th>z</th>      <th>P>|z|</th>  <th>[0.025</th>    <th>0.975]</th>  \n",
       "</tr>\n",
       "<tr>\n",
       "  <th>intercept</th> <td>    4.5086</td> <td>    2.957</td> <td>    1.525</td> <td> 0.127</td> <td>   -1.286</td> <td>   10.303</td>\n",
       "</tr>\n",
       "<tr>\n",
       "  <th>ar.L1</th>     <td>    0.2342</td> <td>    0.026</td> <td>    8.983</td> <td> 0.000</td> <td>    0.183</td> <td>    0.285</td>\n",
       "</tr>\n",
       "<tr>\n",
       "  <th>ar.L2</th>     <td>   -0.8340</td> <td>    0.024</td> <td>  -34.934</td> <td> 0.000</td> <td>   -0.881</td> <td>   -0.787</td>\n",
       "</tr>\n",
       "<tr>\n",
       "  <th>ar.L3</th>     <td>   -0.1316</td> <td>    0.025</td> <td>   -5.243</td> <td> 0.000</td> <td>   -0.181</td> <td>   -0.082</td>\n",
       "</tr>\n",
       "<tr>\n",
       "  <th>ma.L1</th>     <td>   -0.2861</td> <td>    0.022</td> <td>  -12.974</td> <td> 0.000</td> <td>   -0.329</td> <td>   -0.243</td>\n",
       "</tr>\n",
       "<tr>\n",
       "  <th>ma.L2</th>     <td>    0.9533</td> <td>    0.019</td> <td>   50.733</td> <td> 0.000</td> <td>    0.916</td> <td>    0.990</td>\n",
       "</tr>\n",
       "<tr>\n",
       "  <th>sigma2</th>    <td> 1315.0779</td> <td>   35.493</td> <td>   37.051</td> <td> 0.000</td> <td> 1245.512</td> <td> 1384.644</td>\n",
       "</tr>\n",
       "</table>\n",
       "<table class=\"simpletable\">\n",
       "<tr>\n",
       "  <th>Ljung-Box (L1) (Q):</th>     <td>0.03</td>  <th>  Jarque-Bera (JB):  </th> <td>2941.67</td>\n",
       "</tr>\n",
       "<tr>\n",
       "  <th>Prob(Q):</th>                <td>0.87</td>  <th>  Prob(JB):          </th>  <td>0.00</td>  \n",
       "</tr>\n",
       "<tr>\n",
       "  <th>Heteroskedasticity (H):</th> <td>18.55</td> <th>  Skew:              </th>  <td>-0.55</td> \n",
       "</tr>\n",
       "<tr>\n",
       "  <th>Prob(H) (two-sided):</th>    <td>0.00</td>  <th>  Kurtosis:          </th>  <td>15.77</td> \n",
       "</tr>\n",
       "</table><br/><br/>Warnings:<br/>[1] Covariance matrix calculated using the outer product of gradients (complex-step)."
      ],
      "text/plain": [
       "<class 'statsmodels.iolib.summary.Summary'>\n",
       "\"\"\"\n",
       "                               SARIMAX Results                                \n",
       "==============================================================================\n",
       "Dep. Variable:                      y   No. Observations:                  431\n",
       "Model:               SARIMAX(3, 1, 2)   Log Likelihood               -2156.388\n",
       "Date:                Sat, 10 Apr 2021   AIC                           4326.776\n",
       "Time:                        11:38:58   BIC                           4355.222\n",
       "Sample:                             0   HQIC                          4338.008\n",
       "                                - 431                                         \n",
       "Covariance Type:                  opg                                         \n",
       "==============================================================================\n",
       "                 coef    std err          z      P>|z|      [0.025      0.975]\n",
       "------------------------------------------------------------------------------\n",
       "intercept      4.5086      2.957      1.525      0.127      -1.286      10.303\n",
       "ar.L1          0.2342      0.026      8.983      0.000       0.183       0.285\n",
       "ar.L2         -0.8340      0.024    -34.934      0.000      -0.881      -0.787\n",
       "ar.L3         -0.1316      0.025     -5.243      0.000      -0.181      -0.082\n",
       "ma.L1         -0.2861      0.022    -12.974      0.000      -0.329      -0.243\n",
       "ma.L2          0.9533      0.019     50.733      0.000       0.916       0.990\n",
       "sigma2      1315.0779     35.493     37.051      0.000    1245.512    1384.644\n",
       "===================================================================================\n",
       "Ljung-Box (L1) (Q):                   0.03   Jarque-Bera (JB):              2941.67\n",
       "Prob(Q):                              0.87   Prob(JB):                         0.00\n",
       "Heteroskedasticity (H):              18.55   Skew:                            -0.55\n",
       "Prob(H) (two-sided):                  0.00   Kurtosis:                        15.77\n",
       "===================================================================================\n",
       "\n",
       "Warnings:\n",
       "[1] Covariance matrix calculated using the outer product of gradients (complex-step).\n",
       "\"\"\""
      ]
     },
     "execution_count": 51,
     "metadata": {},
     "output_type": "execute_result"
    }
   ],
   "source": [
    "#!pip install pmdarima\n",
    "from pmdarima.arima import auto_arima\n",
    "# Fit auto_arima function to AirPassengers dataset \n",
    "stepwise_fit = auto_arima(df['Price'], start_p = 1, start_q = 1, \n",
    "                          max_p = 3, max_q = 3, m = 1, \n",
    "                          start_P = 0, seasonal = False, \n",
    "                          d = None, D = 1, trace = True, \n",
    "                          error_action ='ignore',    # we don't want to know if an order does not work \n",
    "                          suppress_warnings = True,  # we don't want convergence warnings \n",
    "                          stepwise = True)           # set to stepwise \n",
    "  \n",
    "# To print the summary \n",
    "stepwise_fit.summary() \n",
    "\n",
    "#https://alkaline-ml.com/pmdarima/0.9.0/modules/generated/pyramid.arima.auto_arima.html\n",
    "#https://alkaline-ml.com/pmdarima/0.9.0/tips_and_tricks.html#period"
   ]
  },
  {
   "cell_type": "code",
   "execution_count": 16,
   "metadata": {},
   "outputs": [
    {
     "name": "stdout",
     "output_type": "stream",
     "text": [
      "No of observations under train1=87\n",
      "No of observations under test1=86\n",
      "No of observations under train2=173\n",
      "No of observations under test2=86\n",
      "No of observations under train3=259\n",
      "No of observations under test3=86\n",
      "No of observations under train4=345\n",
      "No of observations under test4=86\n"
     ]
    }
   ],
   "source": [
    "from sklearn.model_selection import TimeSeriesSplit\n",
    "data = pd.DataFrame(df[\"Price\"])\n",
    "\n",
    "#Specify fold and perform splitting\n",
    "tscv = TimeSeriesSplit(n_splits=4)\n",
    "\n",
    "#Find out no of observations in train and test sets\n",
    "i=0\n",
    "for train, test in tscv.split(data):\n",
    "    i=i+1\n",
    "    print (\"No of observations under train%s=%s\" % (i, len(train)))\n",
    "    print (\"No of observations under test%s=%s\" % (i, len(test)))"
   ]
  },
  {
   "cell_type": "code",
   "execution_count": 17,
   "metadata": {},
   "outputs": [],
   "source": [
    "train1, test1 = data.iloc[:87, 0], data.iloc[87:173, 0]\n",
    "train2, test2 = data.iloc[:173, 0], data.iloc[173:259, 0]\n",
    "train3, test3 = data.iloc[:259, 0], data.iloc[259:345, 0]\n",
    "train4, test4 = data.iloc[:345, 0], data.iloc[345:431, 0]"
   ]
  },
  {
   "cell_type": "code",
   "execution_count": 58,
   "metadata": {},
   "outputs": [
    {
     "name": "stderr",
     "output_type": "stream",
     "text": [
      "/Users/radhikagarg/opt/anaconda3/lib/python3.8/site-packages/statsmodels/tsa/base/tsa_model.py:524: ValueWarning: No frequency information was provided, so inferred frequency D will be used.\n",
      "  warnings.warn('No frequency information was'\n",
      "/Users/radhikagarg/opt/anaconda3/lib/python3.8/site-packages/statsmodels/tsa/base/tsa_model.py:524: ValueWarning: No frequency information was provided, so inferred frequency D will be used.\n",
      "  warnings.warn('No frequency information was'\n",
      "/Users/radhikagarg/opt/anaconda3/lib/python3.8/site-packages/statsmodels/tsa/statespace/sarimax.py:978: UserWarning: Non-invertible starting MA parameters found. Using zeros as starting parameters.\n",
      "  warn('Non-invertible starting MA parameters found.'\n",
      "/Users/radhikagarg/opt/anaconda3/lib/python3.8/site-packages/statsmodels/tsa/base/tsa_model.py:524: ValueWarning: No frequency information was provided, so inferred frequency D will be used.\n",
      "  warnings.warn('No frequency information was'\n",
      "/Users/radhikagarg/opt/anaconda3/lib/python3.8/site-packages/statsmodels/tsa/base/tsa_model.py:524: ValueWarning: No frequency information was provided, so inferred frequency D will be used.\n",
      "  warnings.warn('No frequency information was'\n",
      "/Users/radhikagarg/opt/anaconda3/lib/python3.8/site-packages/statsmodels/tsa/statespace/sarimax.py:978: UserWarning: Non-invertible starting MA parameters found. Using zeros as starting parameters.\n",
      "  warn('Non-invertible starting MA parameters found.'\n",
      "/Users/radhikagarg/opt/anaconda3/lib/python3.8/site-packages/statsmodels/base/model.py:566: ConvergenceWarning: Maximum Likelihood optimization failed to converge. Check mle_retvals\n",
      "  warnings.warn(\"Maximum Likelihood optimization failed to \"\n",
      "/Users/radhikagarg/opt/anaconda3/lib/python3.8/site-packages/statsmodels/tsa/base/tsa_model.py:524: ValueWarning: No frequency information was provided, so inferred frequency D will be used.\n",
      "  warnings.warn('No frequency information was'\n",
      "/Users/radhikagarg/opt/anaconda3/lib/python3.8/site-packages/statsmodels/tsa/base/tsa_model.py:524: ValueWarning: No frequency information was provided, so inferred frequency D will be used.\n",
      "  warnings.warn('No frequency information was'\n",
      "/Users/radhikagarg/opt/anaconda3/lib/python3.8/site-packages/statsmodels/tsa/statespace/sarimax.py:978: UserWarning: Non-invertible starting MA parameters found. Using zeros as starting parameters.\n",
      "  warn('Non-invertible starting MA parameters found.'\n",
      "/Users/radhikagarg/opt/anaconda3/lib/python3.8/site-packages/statsmodels/tsa/base/tsa_model.py:524: ValueWarning: No frequency information was provided, so inferred frequency D will be used.\n",
      "  warnings.warn('No frequency information was'\n",
      "/Users/radhikagarg/opt/anaconda3/lib/python3.8/site-packages/statsmodels/tsa/base/tsa_model.py:524: ValueWarning: No frequency information was provided, so inferred frequency D will be used.\n",
      "  warnings.warn('No frequency information was'\n"
     ]
    },
    {
     "name": "stdout",
     "output_type": "stream",
     "text": [
      "RMSE1: 147.79\n",
      "RMSE2: 194.19\n",
      "RMSE3: 59.01\n",
      "RMSE4: 802.63\n",
      "Overall RMSE: 300.9\n"
     ]
    },
    {
     "name": "stderr",
     "output_type": "stream",
     "text": [
      "/Users/radhikagarg/opt/anaconda3/lib/python3.8/site-packages/statsmodels/base/model.py:566: ConvergenceWarning: Maximum Likelihood optimization failed to converge. Check mle_retvals\n",
      "  warnings.warn(\"Maximum Likelihood optimization failed to \"\n"
     ]
    }
   ],
   "source": [
    "from sklearn.metrics import mean_squared_error\n",
    "from math import sqrt\n",
    "#332\n",
    "#First fold RMSE\n",
    "model1 = sm.tsa.statespace.SARIMAX(train1, order=(3,3,2),seasonal_oreder=(0,0,0,0)).fit()\n",
    "pred1 = model1.predict(start=test1.index[0], end=test1.index[-1])\n",
    "RMSE1=round(sqrt(mean_squared_error(test1, pred1)),2)\n",
    "\n",
    "#Second fold RMSE\n",
    "model2 = sm.tsa.statespace.SARIMAX(train2, order=(3,3,2),seasonal_oreder=(0,0,0,0)).fit()\n",
    "pred2 = model2.predict(start=test2.index[0], end=test2.index[-1])\n",
    "RMSE2=round(sqrt(mean_squared_error(test2, pred2)),2)\n",
    "\n",
    "#Third fold RMSE\n",
    "model3 = sm.tsa.statespace.SARIMAX(train3, order=(3,3,2),seasonal_oreder=(0,0,0,0)).fit()\n",
    "pred3 = model3.predict(start=test3.index[0], end=test3.index[-1])\n",
    "RMSE3=round(sqrt(mean_squared_error(test3, pred3)),2)\n",
    "\n",
    "model4 = sm.tsa.statespace.SARIMAX(train4, order=(3,3,2),seasonal_oreder=(0,0,0,0)).fit()\n",
    "pred4 = model3.predict(start=test4.index[0], end=test4.index[-1])\n",
    "RMSE4=round(sqrt(mean_squared_error(test4, pred4)),2)\n",
    "\n",
    "\n",
    "\n",
    "print (\"RMSE1:\", RMSE1)\n",
    "print (\"RMSE2:\", RMSE2)\n",
    "print (\"RMSE3:\", RMSE3)\n",
    "print (\"RMSE4:\", RMSE4)\n",
    "\n",
    "Overall_RMSE=round((RMSE1+RMSE2+RMSE3+RMSE4)/4,2)\n",
    "print (\"Overall RMSE:\", Overall_RMSE) \n"
   ]
  },
  {
   "cell_type": "code",
   "execution_count": 59,
   "metadata": {},
   "outputs": [
    {
     "data": {
      "text/plain": [
       "<matplotlib.patches.Polygon at 0x7fa6f8a61fd0>"
      ]
     },
     "execution_count": 59,
     "metadata": {},
     "output_type": "execute_result"
    },
    {
     "data": {
      "image/png": "[encoded data removed]",
      "text/plain": [
       "<Figure size 1008x576 with 1 Axes>"
      ]
     },
     "metadata": {
      "needs_background": "light"
     },
     "output_type": "display_data"
    }
   ],
   "source": [
    "#plt.style.use('fivethirtyeight')\n",
    "from pylab import rcParams\n",
    "rcParams['figure.figsize'] = 14,8\n",
    "\n",
    "#Labels and titles\n",
    "plt.xlabel(\"Date\")\n",
    "plt.ylabel(\"Closing Price\")\n",
    "plt.title(\"4 fold cross-validation\")\n",
    "\n",
    "#First fold- CV\n",
    "plt.plot(train1.index, train1, label='Train1')\n",
    "plt.plot(test1.index, test1, label='Test1')\n",
    "plt.plot(pred1.index, pred1, label='SARIMAX1')\n",
    "plt.legend(loc='best')\n",
    "#Highlighting the region\n",
    "plt.axvspan(test1.index[0], test1.index[-1],  facecolor='g', alpha=0.1)\n",
    "\n",
    "#Second fold\n",
    "plt.plot(train2.index, train2, label='Train2')\n",
    "plt.plot(test2.index, test2, label='Test2')\n",
    "plt.plot(pred2.index, pred2, label='SARIMAX2')\n",
    "plt.legend(loc='best')\n",
    "#Highlighting the region\n",
    "plt.axvspan(test2.index[0], test2.index[-1],  facecolor='r', alpha=0.2)\n",
    "\n",
    "#Third fold\n",
    "plt.plot(test3.index, test3, label='Test3')\n",
    "plt.plot(pred3.index, pred3, label='SARIMAX3')\n",
    "plt.legend(loc='best')\n",
    "#Highlighting the region\n",
    "plt.axvspan(test3.index[0], test3.index[-1],  facecolor='b', alpha=0.3)\n",
    "\n",
    "#Third fold\n",
    "plt.plot(test4.index, test4, label='Test4')\n",
    "plt.plot(pred4.index, pred4, label='SARIMAX4')\n",
    "plt.legend(loc='best')\n",
    "#Highlighting the region\n",
    "plt.axvspan(test4.index[0], test4.index[-1],  facecolor='y', alpha=0.3)\n"
   ]
  },
  {
   "cell_type": "code",
   "execution_count": null,
   "metadata": {},
   "outputs": [],
   "source": []
  }
 ],
 "metadata": {
  "kernelspec": {
   "display_name": "Python 3",
   "language": "python",
   "name": "python3"
  },
  "language_info": {
   "codemirror_mode": {
    "name": "ipython",
    "version": 3
   },
   "file_extension": ".py",
   "mimetype": "text/x-python",
   "name": "python",
   "nbconvert_exporter": "python",
   "pygments_lexer": "ipython3",
   "version": "3.8.5"
  }
 },
 "nbformat": 4,
 "nbformat_minor": 4
}

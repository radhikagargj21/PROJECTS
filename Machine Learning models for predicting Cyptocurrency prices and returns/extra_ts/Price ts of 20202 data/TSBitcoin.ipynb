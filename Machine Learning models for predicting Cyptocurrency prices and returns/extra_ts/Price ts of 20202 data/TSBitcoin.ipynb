{
 "cells": [
  {
   "cell_type": "markdown",
   "metadata": {},
   "source": [
    "# Time Series Analysis of Cryptocurrency Bitcoin"
   ]
  },
  {
   "cell_type": "code",
   "execution_count": 74,
   "metadata": {},
   "outputs": [],
   "source": [
    "import numpy as np\n",
    "import pandas as pd\n",
    "import seaborn as sns\n",
    "import matplotlib.pyplot as plt\n",
    "%matplotlib inline"
   ]
  },
  {
   "cell_type": "code",
   "execution_count": 75,
   "metadata": {},
   "outputs": [
    {
     "data": {
      "text/html": [
       "<div>\n",
       "<style scoped>\n",
       "    .dataframe tbody tr th:only-of-type {\n",
       "        vertical-align: middle;\n",
       "    }\n",
       "\n",
       "    .dataframe tbody tr th {\n",
       "        vertical-align: top;\n",
       "    }\n",
       "\n",
       "    .dataframe thead th {\n",
       "        text-align: right;\n",
       "    }\n",
       "</style>\n",
       "<table border=\"1\" class=\"dataframe\">\n",
       "  <thead>\n",
       "    <tr style=\"text-align: right;\">\n",
       "      <th></th>\n",
       "      <th>Date</th>\n",
       "      <th>Price</th>\n",
       "      <th>Open</th>\n",
       "      <th>High</th>\n",
       "      <th>Low</th>\n",
       "      <th>Vol.</th>\n",
       "      <th>Change %</th>\n",
       "      <th>MktCap</th>\n",
       "      <th>Tradecount</th>\n",
       "    </tr>\n",
       "  </thead>\n",
       "  <tbody>\n",
       "    <tr>\n",
       "      <th>426</th>\n",
       "      <td>2021-03-02</td>\n",
       "      <td>48424.2</td>\n",
       "      <td>49595.6</td>\n",
       "      <td>50191.9</td>\n",
       "      <td>47100.6</td>\n",
       "      <td>102100.0</td>\n",
       "      <td>-0.0236</td>\n",
       "      <td>901933683269</td>\n",
       "      <td>1855583</td>\n",
       "    </tr>\n",
       "    <tr>\n",
       "      <th>427</th>\n",
       "      <td>2021-03-03</td>\n",
       "      <td>50395.1</td>\n",
       "      <td>48422.2</td>\n",
       "      <td>52567.9</td>\n",
       "      <td>48159.2</td>\n",
       "      <td>44930.0</td>\n",
       "      <td>0.0407</td>\n",
       "      <td>942236576905</td>\n",
       "      <td>2242131</td>\n",
       "    </tr>\n",
       "    <tr>\n",
       "      <th>428</th>\n",
       "      <td>2021-03-04</td>\n",
       "      <td>48428.0</td>\n",
       "      <td>50388.0</td>\n",
       "      <td>51757.7</td>\n",
       "      <td>47521.8</td>\n",
       "      <td>9560.0</td>\n",
       "      <td>-0.0390</td>\n",
       "      <td>905414104807</td>\n",
       "      <td>2291936</td>\n",
       "    </tr>\n",
       "    <tr>\n",
       "      <th>429</th>\n",
       "      <td>2021-03-05</td>\n",
       "      <td>48792.5</td>\n",
       "      <td>48363.6</td>\n",
       "      <td>49429.4</td>\n",
       "      <td>46370.1</td>\n",
       "      <td>113640.0</td>\n",
       "      <td>0.0075</td>\n",
       "      <td>912285065720</td>\n",
       "      <td>2054216</td>\n",
       "    </tr>\n",
       "    <tr>\n",
       "      <th>430</th>\n",
       "      <td>2021-03-06</td>\n",
       "      <td>48855.6</td>\n",
       "      <td>48798.7</td>\n",
       "      <td>49191.8</td>\n",
       "      <td>47132.8</td>\n",
       "      <td>66660.0</td>\n",
       "      <td>0.0013</td>\n",
       "      <td>912054166029</td>\n",
       "      <td>1476474</td>\n",
       "    </tr>\n",
       "  </tbody>\n",
       "</table>\n",
       "</div>"
      ],
      "text/plain": [
       "          Date    Price     Open     High      Low      Vol.  Change %  \\\n",
       "426 2021-03-02  48424.2  49595.6  50191.9  47100.6  102100.0   -0.0236   \n",
       "427 2021-03-03  50395.1  48422.2  52567.9  48159.2   44930.0    0.0407   \n",
       "428 2021-03-04  48428.0  50388.0  51757.7  47521.8    9560.0   -0.0390   \n",
       "429 2021-03-05  48792.5  48363.6  49429.4  46370.1  113640.0    0.0075   \n",
       "430 2021-03-06  48855.6  48798.7  49191.8  47132.8   66660.0    0.0013   \n",
       "\n",
       "           MktCap  Tradecount  \n",
       "426  901933683269     1855583  \n",
       "427  942236576905     2242131  \n",
       "428  905414104807     2291936  \n",
       "429  912285065720     2054216  \n",
       "430  912054166029     1476474  "
      ]
     },
     "execution_count": 75,
     "metadata": {},
     "output_type": "execute_result"
    }
   ],
   "source": [
    "df=pd.read_excel(r'/Users/radhikagarg/Desktop/Bitcoin.xlsx',sheet_name='bitcoin_2019')\n",
    "df.tail()"
   ]
  },
  {
   "cell_type": "code",
   "execution_count": 76,
   "metadata": {},
   "outputs": [
    {
     "name": "stdout",
     "output_type": "stream",
     "text": [
      "<class 'pandas.core.frame.DataFrame'>\n",
      "RangeIndex: 431 entries, 0 to 430\n",
      "Data columns (total 9 columns):\n",
      " #   Column      Non-Null Count  Dtype         \n",
      "---  ------      --------------  -----         \n",
      " 0   Date        431 non-null    datetime64[ns]\n",
      " 1   Price       431 non-null    float64       \n",
      " 2   Open        431 non-null    float64       \n",
      " 3   High        431 non-null    float64       \n",
      " 4   Low         431 non-null    float64       \n",
      " 5   Vol.        431 non-null    float64       \n",
      " 6   Change %    431 non-null    float64       \n",
      " 7   MktCap      431 non-null    int64         \n",
      " 8   Tradecount  431 non-null    int64         \n",
      "dtypes: datetime64[ns](1), float64(6), int64(2)\n",
      "memory usage: 30.4 KB\n",
      "None\n"
     ]
    }
   ],
   "source": [
    "print(df.info())\n",
    "# 1161 rows depicting daily bitcoin prices from 2018 to 2021 with no issing data values in any feild"
   ]
  },
  {
   "cell_type": "code",
   "execution_count": 77,
   "metadata": {},
   "outputs": [
    {
     "data": {
      "text/plain": [
       "Text(0.5, 1.0, 'Closing price Trend')"
      ]
     },
     "execution_count": 77,
     "metadata": {},
     "output_type": "execute_result"
    },
    {
     "data": {
      "image/png": "[encoded data removed]",
      "text/plain": [
       "<Figure size 432x288 with 1 Axes>"
      ]
     },
     "metadata": {
      "needs_background": "light"
     },
     "output_type": "display_data"
    }
   ],
   "source": [
    "# PLOTTING Closing Prices against Dates.\n",
    "plt.scatter(df.Date,df.Price)\n",
    "plt.xlabel(\"Date\")\n",
    "plt.ylabel(\"Closing price\")\n",
    "plt.title(\"Closing price Trend\")"
   ]
  },
  {
   "cell_type": "code",
   "execution_count": 78,
   "metadata": {},
   "outputs": [
    {
     "data": {
      "text/html": [
       "<div>\n",
       "<style scoped>\n",
       "    .dataframe tbody tr th:only-of-type {\n",
       "        vertical-align: middle;\n",
       "    }\n",
       "\n",
       "    .dataframe tbody tr th {\n",
       "        vertical-align: top;\n",
       "    }\n",
       "\n",
       "    .dataframe thead th {\n",
       "        text-align: right;\n",
       "    }\n",
       "</style>\n",
       "<table border=\"1\" class=\"dataframe\">\n",
       "  <thead>\n",
       "    <tr style=\"text-align: right;\">\n",
       "      <th></th>\n",
       "      <th>Price</th>\n",
       "      <th>Open</th>\n",
       "      <th>High</th>\n",
       "      <th>Low</th>\n",
       "      <th>Vol.</th>\n",
       "      <th>Change %</th>\n",
       "      <th>MktCap</th>\n",
       "      <th>Tradecount</th>\n",
       "    </tr>\n",
       "  </thead>\n",
       "  <tbody>\n",
       "    <tr>\n",
       "      <th>count</th>\n",
       "      <td>431.000000</td>\n",
       "      <td>431.000000</td>\n",
       "      <td>431.000000</td>\n",
       "      <td>431.000000</td>\n",
       "      <td>4.310000e+02</td>\n",
       "      <td>431.000000</td>\n",
       "      <td>4.310000e+02</td>\n",
       "      <td>4.310000e+02</td>\n",
       "    </tr>\n",
       "    <tr>\n",
       "      <th>mean</th>\n",
       "      <td>15625.794896</td>\n",
       "      <td>15528.160325</td>\n",
       "      <td>16027.236891</td>\n",
       "      <td>15033.547332</td>\n",
       "      <td>7.449200e+05</td>\n",
       "      <td>0.005374</td>\n",
       "      <td>2.893272e+11</td>\n",
       "      <td>1.080478e+06</td>\n",
       "    </tr>\n",
       "    <tr>\n",
       "      <th>std</th>\n",
       "      <td>11809.520418</td>\n",
       "      <td>11705.201464</td>\n",
       "      <td>12263.437014</td>\n",
       "      <td>11113.880280</td>\n",
       "      <td>1.687765e+06</td>\n",
       "      <td>0.041644</td>\n",
       "      <td>2.208788e+11</td>\n",
       "      <td>6.963870e+05</td>\n",
       "    </tr>\n",
       "    <tr>\n",
       "      <th>min</th>\n",
       "      <td>4826.000000</td>\n",
       "      <td>4815.200000</td>\n",
       "      <td>5369.300000</td>\n",
       "      <td>3869.500000</td>\n",
       "      <td>2.400000e+03</td>\n",
       "      <td>-0.391800</td>\n",
       "      <td>9.080461e+10</td>\n",
       "      <td>1.940100e+05</td>\n",
       "    </tr>\n",
       "    <tr>\n",
       "      <th>25%</th>\n",
       "      <td>9129.200000</td>\n",
       "      <td>9103.900000</td>\n",
       "      <td>9214.650000</td>\n",
       "      <td>8924.600000</td>\n",
       "      <td>1.276000e+05</td>\n",
       "      <td>-0.011750</td>\n",
       "      <td>1.677377e+11</td>\n",
       "      <td>5.890720e+05</td>\n",
       "    </tr>\n",
       "    <tr>\n",
       "      <th>50%</th>\n",
       "      <td>10339.700000</td>\n",
       "      <td>10336.000000</td>\n",
       "      <td>10535.400000</td>\n",
       "      <td>10146.600000</td>\n",
       "      <td>4.291300e+05</td>\n",
       "      <td>0.003600</td>\n",
       "      <td>1.915684e+11</td>\n",
       "      <td>8.303750e+05</td>\n",
       "    </tr>\n",
       "    <tr>\n",
       "      <th>75%</th>\n",
       "      <td>17412.150000</td>\n",
       "      <td>17151.750000</td>\n",
       "      <td>17859.900000</td>\n",
       "      <td>16521.800000</td>\n",
       "      <td>8.134450e+05</td>\n",
       "      <td>0.021350</td>\n",
       "      <td>3.227445e+11</td>\n",
       "      <td>1.452486e+06</td>\n",
       "    </tr>\n",
       "    <tr>\n",
       "      <th>max</th>\n",
       "      <td>57433.800000</td>\n",
       "      <td>57437.600000</td>\n",
       "      <td>58335.100000</td>\n",
       "      <td>55502.700000</td>\n",
       "      <td>2.026000e+07</td>\n",
       "      <td>0.194100</td>\n",
       "      <td>1.072263e+12</td>\n",
       "      <td>4.431451e+06</td>\n",
       "    </tr>\n",
       "  </tbody>\n",
       "</table>\n",
       "</div>"
      ],
      "text/plain": [
       "              Price          Open          High           Low          Vol.  \\\n",
       "count    431.000000    431.000000    431.000000    431.000000  4.310000e+02   \n",
       "mean   15625.794896  15528.160325  16027.236891  15033.547332  7.449200e+05   \n",
       "std    11809.520418  11705.201464  12263.437014  11113.880280  1.687765e+06   \n",
       "min     4826.000000   4815.200000   5369.300000   3869.500000  2.400000e+03   \n",
       "25%     9129.200000   9103.900000   9214.650000   8924.600000  1.276000e+05   \n",
       "50%    10339.700000  10336.000000  10535.400000  10146.600000  4.291300e+05   \n",
       "75%    17412.150000  17151.750000  17859.900000  16521.800000  8.134450e+05   \n",
       "max    57433.800000  57437.600000  58335.100000  55502.700000  2.026000e+07   \n",
       "\n",
       "         Change %        MktCap    Tradecount  \n",
       "count  431.000000  4.310000e+02  4.310000e+02  \n",
       "mean     0.005374  2.893272e+11  1.080478e+06  \n",
       "std      0.041644  2.208788e+11  6.963870e+05  \n",
       "min     -0.391800  9.080461e+10  1.940100e+05  \n",
       "25%     -0.011750  1.677377e+11  5.890720e+05  \n",
       "50%      0.003600  1.915684e+11  8.303750e+05  \n",
       "75%      0.021350  3.227445e+11  1.452486e+06  \n",
       "max      0.194100  1.072263e+12  4.431451e+06  "
      ]
     },
     "execution_count": 78,
     "metadata": {},
     "output_type": "execute_result"
    }
   ],
   "source": [
    "import datetime\n",
    "df['Date']=pd.to_datetime(df['Date']) # setting month as index to exclude month from describe calcs\n",
    "df.head()\n",
    "df.describe()"
   ]
  },
  {
   "cell_type": "code",
   "execution_count": 79,
   "metadata": {},
   "outputs": [],
   "source": [
    "df.set_index('Date',inplace=True)"
   ]
  },
  {
   "cell_type": "markdown",
   "metadata": {},
   "source": [
    "# Differencing"
   ]
  },
  {
   "cell_type": "markdown",
   "metadata": {},
   "source": [
    "Time-Series Components\n",
    "There are three components of time-series data:\n",
    "Trend: the movement of the data on a larger scale (moving average)\n",
    "Seasonality: repeated seasonal fluctuations\n",
    "Residual: any fluctuations not captured from trend or seasonality (should be random)\n",
    "A time series can be modeled as an additive or multiplicative time-series depending on its nature of trend and seasonality.\n",
    "Additive Time Series\n",
    "observed = Trend + Seasonal + Residual\n",
    "Multiplicative Time Series\n",
    "observed = Trend × Seasonal × Residual\n",
    "\n",
    "Based on data values, if the magnitude of seasonality changes over time (see image on the right), then the data \n",
    "is multiplicative. Our data, however, does not show clear evidence of growing or shrinking magnitude of seasonality,\n",
    "so we assume it is an additive time series. Please take a look at it once again.\n",
    "\n",
    "we are using freq= 7*4*3 (~3 months) to model our data. You can tune it by holding into trend visualizations. If the trend's visualizations are smooth, and the seasonal has patterns, then it's good to continue. \n",
    "The extrapolate_trend='freq' will make the length of the residual, trend, and seasonal the same by taking care of any missing values at the beginning of the series. "
   ]
  },
  {
   "cell_type": "code",
   "execution_count": 81,
   "metadata": {},
   "outputs": [],
   "source": [
    "from statsmodels.tsa.stattools import adfuller\n",
    "def test_stationarity(timeseries):\n",
    "    \n",
    "    #Determing rolling statistics\n",
    "    # Super not sure how to determin this... We'll have to do some research\n",
    "    # 7 to 14 days seems reasonable to find overall trends\n",
    "    rolmean = pd.Series(timeseries).rolling(window=14).mean()\n",
    "\n",
    "    #Plot rolling statistics:\n",
    "    fig = plt.figure(figsize=(12, 8))\n",
    "    orig = plt.plot(timeseries, color='blue',label='Original')\n",
    "    mean = plt.plot(rolmean, color='red', label='Rolling Mean')\n",
    "    plt.legend(loc='best')\n",
    "    plt.title('Rolling Mean')\n",
    "    plt.show()\n",
    "    \n",
    "    #Perform Dickey-Fuller test:\n",
    "    print('Results of Dickey-Fuller Test:')\n",
    "    dftest = adfuller(timeseries, autolag='AIC')\n",
    "    dfoutput = pd.Series(dftest[0:4], index=['Test Statistic','p-value','#Lags Used','Number of Observations Used'])\n",
    "    for key,value in list(dftest[4].items()):\n",
    "        dfoutput['Critical Value (%s)'%key] = value\n",
    "    print(dfoutput)"
   ]
  },
  {
   "cell_type": "code",
   "execution_count": 82,
   "metadata": {},
   "outputs": [
    {
     "data": {
      "image/png": "[encoded data removed]",
      "text/plain": [
       "<Figure size 864x576 with 1 Axes>"
      ]
     },
     "metadata": {
      "needs_background": "light"
     },
     "output_type": "display_data"
    },
    {
     "name": "stdout",
     "output_type": "stream",
     "text": [
      "Results of Dickey-Fuller Test:\n",
      "Test Statistic                  -5.374047\n",
      "p-value                          0.000004\n",
      "#Lags Used                      18.000000\n",
      "Number of Observations Used    410.000000\n",
      "Critical Value (1%)             -3.446401\n",
      "Critical Value (5%)             -2.868615\n",
      "Critical Value (10%)            -2.570539\n",
      "dtype: float64\n"
     ]
    }
   ],
   "source": [
    "#prev 2 day dependency is seen\n",
    "df['second_difference'] = df.Price - df.Price.shift(2)  \n",
    "test_stationarity(df.second_difference.dropna(inplace=False))"
   ]
  },
  {
   "cell_type": "code",
   "execution_count": 84,
   "metadata": {},
   "outputs": [
    {
     "data": {
      "image/png": "[encoded data removed]",
      "text/plain": [
       "<Figure size 864x576 with 1 Axes>"
      ]
     },
     "metadata": {
      "needs_background": "light"
     },
     "output_type": "display_data"
    },
    {
     "name": "stdout",
     "output_type": "stream",
     "text": [
      "Results of Dickey-Fuller Test:\n",
      "Test Statistic                 -1.342034\n",
      "p-value                         0.609729\n",
      "#Lags Used                      0.000000\n",
      "Number of Observations Used    65.000000\n",
      "Critical Value (1%)            -3.535217\n",
      "Critical Value (5%)            -2.907154\n",
      "Critical Value (10%)           -2.591103\n",
      "dtype: float64\n"
     ]
    }
   ],
   "source": [
    "#prev 365 day dependency/annual is not seen\n",
    "df['seasonal_difference'] = df.Price - df.Price.shift(365)  \n",
    "test_stationarity(df.seasonal_difference.dropna(inplace=False))"
   ]
  },
  {
   "cell_type": "code",
   "execution_count": 86,
   "metadata": {},
   "outputs": [
    {
     "data": {
      "image/png": "[encoded data removed]",
      "text/plain": [
       "<Figure size 864x576 with 2 Axes>"
      ]
     },
     "metadata": {
      "needs_background": "light"
     },
     "output_type": "display_data"
    }
   ],
   "source": [
    "import statsmodels.api as sm\n",
    "fig = plt.figure(figsize=(12,8))\n",
    "ax1 = fig.add_subplot(211)\n",
    "fig = sm.graphics.tsa.plot_acf(df.second_difference.iloc[3:], lags=20, ax=ax1)\n",
    "ax2 = fig.add_subplot(212)\n",
    "fig = sm.graphics.tsa.plot_pacf(df.second_difference.iloc[3:], lags=20, ax=ax2)\n",
    "plt.show()\n",
    "\n",
    "#p=2,\n",
    "#d=2,\n",
    "#q=2,"
   ]
  },
  {
   "cell_type": "code",
   "execution_count": 87,
   "metadata": {},
   "outputs": [
    {
     "data": {
      "text/html": [
       "<div>\n",
       "<style scoped>\n",
       "    .dataframe tbody tr th:only-of-type {\n",
       "        vertical-align: middle;\n",
       "    }\n",
       "\n",
       "    .dataframe tbody tr th {\n",
       "        vertical-align: top;\n",
       "    }\n",
       "\n",
       "    .dataframe thead th {\n",
       "        text-align: right;\n",
       "    }\n",
       "</style>\n",
       "<table border=\"1\" class=\"dataframe\">\n",
       "  <thead>\n",
       "    <tr style=\"text-align: right;\">\n",
       "      <th></th>\n",
       "      <th>Price</th>\n",
       "      <th>Open</th>\n",
       "      <th>High</th>\n",
       "      <th>Low</th>\n",
       "      <th>Vol.</th>\n",
       "      <th>Change %</th>\n",
       "      <th>MktCap</th>\n",
       "      <th>Tradecount</th>\n",
       "      <th>second_difference</th>\n",
       "      <th>monthly_second_difference</th>\n",
       "      <th>seasonal_difference</th>\n",
       "    </tr>\n",
       "    <tr>\n",
       "      <th>Date</th>\n",
       "      <th></th>\n",
       "      <th></th>\n",
       "      <th></th>\n",
       "      <th></th>\n",
       "      <th></th>\n",
       "      <th></th>\n",
       "      <th></th>\n",
       "      <th></th>\n",
       "      <th></th>\n",
       "      <th></th>\n",
       "      <th></th>\n",
       "    </tr>\n",
       "  </thead>\n",
       "  <tbody>\n",
       "    <tr>\n",
       "      <th>2021-03-02</th>\n",
       "      <td>48424.2</td>\n",
       "      <td>49595.6</td>\n",
       "      <td>50191.9</td>\n",
       "      <td>47100.6</td>\n",
       "      <td>102100.0</td>\n",
       "      <td>-0.0236</td>\n",
       "      <td>901933683269</td>\n",
       "      <td>1855583</td>\n",
       "      <td>3260.2</td>\n",
       "      <td>4453.9</td>\n",
       "      <td>39519.4</td>\n",
       "    </tr>\n",
       "    <tr>\n",
       "      <th>2021-03-03</th>\n",
       "      <td>50395.1</td>\n",
       "      <td>48422.2</td>\n",
       "      <td>52567.9</td>\n",
       "      <td>48159.2</td>\n",
       "      <td>44930.0</td>\n",
       "      <td>0.0407</td>\n",
       "      <td>942236576905</td>\n",
       "      <td>2242131</td>\n",
       "      <td>799.6</td>\n",
       "      <td>1567.0</td>\n",
       "      <td>41633.7</td>\n",
       "    </tr>\n",
       "    <tr>\n",
       "      <th>2021-03-04</th>\n",
       "      <td>48428.0</td>\n",
       "      <td>50388.0</td>\n",
       "      <td>51757.7</td>\n",
       "      <td>47521.8</td>\n",
       "      <td>9560.0</td>\n",
       "      <td>-0.0390</td>\n",
       "      <td>905414104807</td>\n",
       "      <td>2291936</td>\n",
       "      <td>3.8</td>\n",
       "      <td>-2373.3</td>\n",
       "      <td>39670.1</td>\n",
       "    </tr>\n",
       "    <tr>\n",
       "      <th>2021-03-05</th>\n",
       "      <td>48792.5</td>\n",
       "      <td>48363.6</td>\n",
       "      <td>49429.4</td>\n",
       "      <td>46370.1</td>\n",
       "      <td>113640.0</td>\n",
       "      <td>0.0075</td>\n",
       "      <td>912285065720</td>\n",
       "      <td>2054216</td>\n",
       "      <td>-1602.6</td>\n",
       "      <td>-5733.7</td>\n",
       "      <td>39732.2</td>\n",
       "    </tr>\n",
       "    <tr>\n",
       "      <th>2021-03-06</th>\n",
       "      <td>48855.6</td>\n",
       "      <td>48798.7</td>\n",
       "      <td>49191.8</td>\n",
       "      <td>47132.8</td>\n",
       "      <td>66660.0</td>\n",
       "      <td>0.0013</td>\n",
       "      <td>912054166029</td>\n",
       "      <td>1476474</td>\n",
       "      <td>427.6</td>\n",
       "      <td>-1069.3</td>\n",
       "      <td>39720.8</td>\n",
       "    </tr>\n",
       "  </tbody>\n",
       "</table>\n",
       "</div>"
      ],
      "text/plain": [
       "              Price     Open     High      Low      Vol.  Change %  \\\n",
       "Date                                                                 \n",
       "2021-03-02  48424.2  49595.6  50191.9  47100.6  102100.0   -0.0236   \n",
       "2021-03-03  50395.1  48422.2  52567.9  48159.2   44930.0    0.0407   \n",
       "2021-03-04  48428.0  50388.0  51757.7  47521.8    9560.0   -0.0390   \n",
       "2021-03-05  48792.5  48363.6  49429.4  46370.1  113640.0    0.0075   \n",
       "2021-03-06  48855.6  48798.7  49191.8  47132.8   66660.0    0.0013   \n",
       "\n",
       "                  MktCap  Tradecount  second_difference  \\\n",
       "Date                                                      \n",
       "2021-03-02  901933683269     1855583             3260.2   \n",
       "2021-03-03  942236576905     2242131              799.6   \n",
       "2021-03-04  905414104807     2291936                3.8   \n",
       "2021-03-05  912285065720     2054216            -1602.6   \n",
       "2021-03-06  912054166029     1476474              427.6   \n",
       "\n",
       "            monthly_second_difference  seasonal_difference  \n",
       "Date                                                        \n",
       "2021-03-02                     4453.9              39519.4  \n",
       "2021-03-03                     1567.0              41633.7  \n",
       "2021-03-04                    -2373.3              39670.1  \n",
       "2021-03-05                    -5733.7              39732.2  \n",
       "2021-03-06                    -1069.3              39720.8  "
      ]
     },
     "execution_count": 87,
     "metadata": {},
     "output_type": "execute_result"
    }
   ],
   "source": [
    "df.tail()"
   ]
  },
  {
   "cell_type": "markdown",
   "metadata": {},
   "source": [
    "# AR Model"
   ]
  },
  {
   "cell_type": "markdown",
   "metadata": {},
   "source": [
    "ARIMA models will require (p, d, q) arguments as its order, \n",
    "where: \n",
    "- p: The number of lag included in the model, or also called lag order. Previously defined by looking into PACF visualization\n",
    "- d: Order of difference. In previous section, we know that doing a difference once made the data stationary. Thus, we will use d=1 on original data.\n",
    "- q: The size of moving average windows, or also called moving average order. Previously defined by looking into ACF visualization"
   ]
  },
  {
   "cell_type": "code",
   "execution_count": 94,
   "metadata": {},
   "outputs": [
    {
     "name": "stderr",
     "output_type": "stream",
     "text": [
      "/Users/radhikagarg/opt/anaconda3/lib/python3.8/site-packages/statsmodels/tsa/arima_model.py:472: FutureWarning: \n",
      "statsmodels.tsa.arima_model.ARMA and statsmodels.tsa.arima_model.ARIMA have\n",
      "been deprecated in favor of statsmodels.tsa.arima.model.ARIMA (note the .\n",
      "between arima and model) and\n",
      "statsmodels.tsa.SARIMAX. These will be removed after the 0.12 release.\n",
      "\n",
      "statsmodels.tsa.arima.model.ARIMA makes use of the statespace framework and\n",
      "is both well tested and maintained.\n",
      "\n",
      "To silence this warning and continue using ARMA and ARIMA until they are\n",
      "removed, use:\n",
      "\n",
      "import warnings\n",
      "warnings.filterwarnings('ignore', 'statsmodels.tsa.arima_model.ARMA',\n",
      "                        FutureWarning)\n",
      "warnings.filterwarnings('ignore', 'statsmodels.tsa.arima_model.ARIMA',\n",
      "                        FutureWarning)\n",
      "\n",
      "  warnings.warn(ARIMA_DEPRECATION_WARN, FutureWarning)\n",
      "/Users/radhikagarg/opt/anaconda3/lib/python3.8/site-packages/statsmodels/tsa/base/tsa_model.py:524: ValueWarning: No frequency information was provided, so inferred frequency D will be used.\n",
      "  warnings.warn('No frequency information was'\n",
      "/Users/radhikagarg/opt/anaconda3/lib/python3.8/site-packages/statsmodels/tsa/base/tsa_model.py:524: ValueWarning: No frequency information was provided, so inferred frequency D will be used.\n",
      "  warnings.warn('No frequency information was'\n",
      "/Users/radhikagarg/opt/anaconda3/lib/python3.8/site-packages/statsmodels/tsa/arima_model.py:472: FutureWarning: \n",
      "statsmodels.tsa.arima_model.ARMA and statsmodels.tsa.arima_model.ARIMA have\n",
      "been deprecated in favor of statsmodels.tsa.arima.model.ARIMA (note the .\n",
      "between arima and model) and\n",
      "statsmodels.tsa.SARIMAX. These will be removed after the 0.12 release.\n",
      "\n",
      "statsmodels.tsa.arima.model.ARIMA makes use of the statespace framework and\n",
      "is both well tested and maintained.\n",
      "\n",
      "To silence this warning and continue using ARMA and ARIMA until they are\n",
      "removed, use:\n",
      "\n",
      "import warnings\n",
      "warnings.filterwarnings('ignore', 'statsmodels.tsa.arima_model.ARMA',\n",
      "                        FutureWarning)\n",
      "warnings.filterwarnings('ignore', 'statsmodels.tsa.arima_model.ARIMA',\n",
      "                        FutureWarning)\n",
      "\n",
      "  warnings.warn(ARIMA_DEPRECATION_WARN, FutureWarning)\n"
     ]
    }
   ],
   "source": [
    "from statsmodels.tsa.arima_model import ARIMA\n",
    "model=ARIMA(df['Price'],order=(2,2,2))\n",
    "model_fit=model.fit()\n",
    "\n",
    "#Based on the model summary, all variables (ar and ma) have a p-value <5%. This means that our model \n",
    "#really fits into the train data. The AIC, BIC, and HQIC is a score to measure the goodness of our model based on \n",
    "#the train data."
   ]
  },
  {
   "cell_type": "code",
   "execution_count": 95,
   "metadata": {},
   "outputs": [
    {
     "data": {
      "text/html": [
       "<table class=\"simpletable\">\n",
       "<caption>ARIMA Model Results</caption>\n",
       "<tr>\n",
       "  <th>Dep. Variable:</th>     <td>D2.Price</td>     <th>  No. Observations:  </th>    <td>429</td>   \n",
       "</tr>\n",
       "<tr>\n",
       "  <th>Model:</th>          <td>ARIMA(2, 2, 2)</td>  <th>  Log Likelihood     </th> <td>-3535.003</td>\n",
       "</tr>\n",
       "<tr>\n",
       "  <th>Method:</th>             <td>css-mle</td>     <th>  S.D. of innovations</th>  <td>910.639</td> \n",
       "</tr>\n",
       "<tr>\n",
       "  <th>Date:</th>          <td>Sat, 10 Apr 2021</td> <th>  AIC                </th> <td>7082.006</td> \n",
       "</tr>\n",
       "<tr>\n",
       "  <th>Time:</th>              <td>10:18:48</td>     <th>  BIC                </th> <td>7106.375</td> \n",
       "</tr>\n",
       "<tr>\n",
       "  <th>Sample:</th>           <td>01-03-2020</td>    <th>  HQIC               </th> <td>7091.630</td> \n",
       "</tr>\n",
       "<tr>\n",
       "  <th></th>                 <td>- 03-06-2021</td>   <th>                     </th>     <td> </td>    \n",
       "</tr>\n",
       "</table>\n",
       "<table class=\"simpletable\">\n",
       "<tr>\n",
       "         <td></td>           <th>coef</th>     <th>std err</th>      <th>z</th>      <th>P>|z|</th>  <th>[0.025</th>    <th>0.975]</th>  \n",
       "</tr>\n",
       "<tr>\n",
       "  <th>const</th>          <td>    0.8048</td> <td>    0.363</td> <td>    2.220</td> <td> 0.026</td> <td>    0.094</td> <td>    1.515</td>\n",
       "</tr>\n",
       "<tr>\n",
       "  <th>ar.L1.D2.Price</th> <td>    0.2403</td> <td>    0.715</td> <td>    0.336</td> <td> 0.737</td> <td>   -1.161</td> <td>    1.642</td>\n",
       "</tr>\n",
       "<tr>\n",
       "  <th>ar.L2.D2.Price</th> <td>    0.0553</td> <td>    0.051</td> <td>    1.075</td> <td> 0.283</td> <td>   -0.046</td> <td>    0.156</td>\n",
       "</tr>\n",
       "<tr>\n",
       "  <th>ma.L1.D2.Price</th> <td>   -1.2776</td> <td>    0.715</td> <td>   -1.786</td> <td> 0.074</td> <td>   -2.679</td> <td>    0.124</td>\n",
       "</tr>\n",
       "<tr>\n",
       "  <th>ma.L2.D2.Price</th> <td>    0.2776</td> <td>    0.715</td> <td>    0.388</td> <td> 0.698</td> <td>   -1.124</td> <td>    1.679</td>\n",
       "</tr>\n",
       "</table>\n",
       "<table class=\"simpletable\">\n",
       "<caption>Roots</caption>\n",
       "<tr>\n",
       "    <td></td>   <th>            Real</th>  <th>         Imaginary</th> <th>         Modulus</th>  <th>        Frequency</th>\n",
       "</tr>\n",
       "<tr>\n",
       "  <th>AR.1</th> <td>           2.6023</td> <td>          +0.0000j</td> <td>           2.6023</td> <td>           0.0000</td>\n",
       "</tr>\n",
       "<tr>\n",
       "  <th>AR.2</th> <td>          -6.9464</td> <td>          +0.0000j</td> <td>           6.9464</td> <td>           0.5000</td>\n",
       "</tr>\n",
       "<tr>\n",
       "  <th>MA.1</th> <td>           1.0000</td> <td>          +0.0000j</td> <td>           1.0000</td> <td>           0.0000</td>\n",
       "</tr>\n",
       "<tr>\n",
       "  <th>MA.2</th> <td>           3.6024</td> <td>          +0.0000j</td> <td>           3.6024</td> <td>           0.0000</td>\n",
       "</tr>\n",
       "</table>"
      ],
      "text/plain": [
       "<class 'statsmodels.iolib.summary.Summary'>\n",
       "\"\"\"\n",
       "                             ARIMA Model Results                              \n",
       "==============================================================================\n",
       "Dep. Variable:               D2.Price   No. Observations:                  429\n",
       "Model:                 ARIMA(2, 2, 2)   Log Likelihood               -3535.003\n",
       "Method:                       css-mle   S.D. of innovations            910.639\n",
       "Date:                Sat, 10 Apr 2021   AIC                           7082.006\n",
       "Time:                        10:18:48   BIC                           7106.375\n",
       "Sample:                    01-03-2020   HQIC                          7091.630\n",
       "                         - 03-06-2021                                         \n",
       "==================================================================================\n",
       "                     coef    std err          z      P>|z|      [0.025      0.975]\n",
       "----------------------------------------------------------------------------------\n",
       "const              0.8048      0.363      2.220      0.026       0.094       1.515\n",
       "ar.L1.D2.Price     0.2403      0.715      0.336      0.737      -1.161       1.642\n",
       "ar.L2.D2.Price     0.0553      0.051      1.075      0.283      -0.046       0.156\n",
       "ma.L1.D2.Price    -1.2776      0.715     -1.786      0.074      -2.679       0.124\n",
       "ma.L2.D2.Price     0.2776      0.715      0.388      0.698      -1.124       1.679\n",
       "                                    Roots                                    \n",
       "=============================================================================\n",
       "                  Real          Imaginary           Modulus         Frequency\n",
       "-----------------------------------------------------------------------------\n",
       "AR.1            2.6023           +0.0000j            2.6023            0.0000\n",
       "AR.2           -6.9464           +0.0000j            6.9464            0.5000\n",
       "MA.1            1.0000           +0.0000j            1.0000            0.0000\n",
       "MA.2            3.6024           +0.0000j            3.6024            0.0000\n",
       "-----------------------------------------------------------------------------\n",
       "\"\"\""
      ]
     },
     "execution_count": 95,
     "metadata": {},
     "output_type": "execute_result"
    }
   ],
   "source": [
    "model_fit.summary()"
   ]
  },
  {
   "cell_type": "code",
   "execution_count": 106,
   "metadata": {
    "scrolled": false
   },
   "outputs": [
    {
     "name": "stdout",
     "output_type": "stream",
     "text": [
      "Performing stepwise search to minimize aic\n",
      " ARIMA(1,2,1)(0,0,0)[0] intercept   : AIC=inf, Time=0.11 sec\n",
      " ARIMA(0,2,0)(0,0,0)[0] intercept   : AIC=7384.074, Time=0.01 sec\n",
      " ARIMA(1,2,0)(0,0,0)[0] intercept   : AIC=7240.933, Time=0.02 sec\n",
      " ARIMA(0,2,1)(0,0,0)[0] intercept   : AIC=inf, Time=0.05 sec\n",
      " ARIMA(0,2,0)(0,0,0)[0]             : AIC=7382.079, Time=0.01 sec\n",
      " ARIMA(2,2,0)(0,0,0)[0] intercept   : AIC=7185.883, Time=0.03 sec\n",
      " ARIMA(2,2,1)(0,0,0)[0] intercept   : AIC=inf, Time=0.17 sec\n",
      " ARIMA(2,2,0)(0,0,0)[0]             : AIC=7183.889, Time=0.01 sec\n",
      " ARIMA(1,2,0)(0,0,0)[0]             : AIC=7238.933, Time=0.01 sec\n",
      " ARIMA(2,2,1)(0,0,0)[0]             : AIC=inf, Time=0.10 sec\n",
      " ARIMA(1,2,1)(0,0,0)[0]             : AIC=inf, Time=0.06 sec\n",
      "\n",
      "Best model:  ARIMA(2,2,0)(0,0,0)[0]          \n",
      "Total fit time: 0.585 seconds\n"
     ]
    },
    {
     "data": {
      "text/html": [
       "<table class=\"simpletable\">\n",
       "<caption>SARIMAX Results</caption>\n",
       "<tr>\n",
       "  <th>Dep. Variable:</th>           <td>y</td>        <th>  No. Observations:  </th>    <td>431</td>   \n",
       "</tr>\n",
       "<tr>\n",
       "  <th>Model:</th>           <td>SARIMAX(2, 2, 0)</td> <th>  Log Likelihood     </th> <td>-3588.945</td>\n",
       "</tr>\n",
       "<tr>\n",
       "  <th>Date:</th>            <td>Sat, 10 Apr 2021</td> <th>  AIC                </th> <td>7183.889</td> \n",
       "</tr>\n",
       "<tr>\n",
       "  <th>Time:</th>                <td>11:33:33</td>     <th>  BIC                </th> <td>7196.074</td> \n",
       "</tr>\n",
       "<tr>\n",
       "  <th>Sample:</th>                  <td>0</td>        <th>  HQIC               </th> <td>7188.701</td> \n",
       "</tr>\n",
       "<tr>\n",
       "  <th></th>                      <td> - 431</td>      <th>                     </th>     <td> </td>    \n",
       "</tr>\n",
       "<tr>\n",
       "  <th>Covariance Type:</th>        <td>opg</td>       <th>                     </th>     <td> </td>    \n",
       "</tr>\n",
       "</table>\n",
       "<table class=\"simpletable\">\n",
       "<tr>\n",
       "     <td></td>       <th>coef</th>     <th>std err</th>      <th>z</th>      <th>P>|z|</th>  <th>[0.025</th>    <th>0.975]</th>  \n",
       "</tr>\n",
       "<tr>\n",
       "  <th>ar.L1</th>  <td>   -0.7191</td> <td>    0.022</td> <td>  -32.017</td> <td> 0.000</td> <td>   -0.763</td> <td>   -0.675</td>\n",
       "</tr>\n",
       "<tr>\n",
       "  <th>ar.L2</th>  <td>   -0.3485</td> <td>    0.023</td> <td>  -15.314</td> <td> 0.000</td> <td>   -0.393</td> <td>   -0.304</td>\n",
       "</tr>\n",
       "<tr>\n",
       "  <th>sigma2</th> <td> 1.078e+06</td> <td> 2.81e+04</td> <td>   38.355</td> <td> 0.000</td> <td> 1.02e+06</td> <td> 1.13e+06</td>\n",
       "</tr>\n",
       "</table>\n",
       "<table class=\"simpletable\">\n",
       "<tr>\n",
       "  <th>Ljung-Box (L1) (Q):</th>     <td>1.59</td>  <th>  Jarque-Bera (JB):  </th> <td>2436.20</td>\n",
       "</tr>\n",
       "<tr>\n",
       "  <th>Prob(Q):</th>                <td>0.21</td>  <th>  Prob(JB):          </th>  <td>0.00</td>  \n",
       "</tr>\n",
       "<tr>\n",
       "  <th>Heteroskedasticity (H):</th> <td>12.16</td> <th>  Skew:              </th>  <td>0.29</td>  \n",
       "</tr>\n",
       "<tr>\n",
       "  <th>Prob(H) (two-sided):</th>    <td>0.00</td>  <th>  Kurtosis:          </th>  <td>14.66</td> \n",
       "</tr>\n",
       "</table><br/><br/>Warnings:<br/>[1] Covariance matrix calculated using the outer product of gradients (complex-step)."
      ],
      "text/plain": [
       "<class 'statsmodels.iolib.summary.Summary'>\n",
       "\"\"\"\n",
       "                               SARIMAX Results                                \n",
       "==============================================================================\n",
       "Dep. Variable:                      y   No. Observations:                  431\n",
       "Model:               SARIMAX(2, 2, 0)   Log Likelihood               -3588.945\n",
       "Date:                Sat, 10 Apr 2021   AIC                           7183.889\n",
       "Time:                        11:33:33   BIC                           7196.074\n",
       "Sample:                             0   HQIC                          7188.701\n",
       "                                - 431                                         \n",
       "Covariance Type:                  opg                                         \n",
       "==============================================================================\n",
       "                 coef    std err          z      P>|z|      [0.025      0.975]\n",
       "------------------------------------------------------------------------------\n",
       "ar.L1         -0.7191      0.022    -32.017      0.000      -0.763      -0.675\n",
       "ar.L2         -0.3485      0.023    -15.314      0.000      -0.393      -0.304\n",
       "sigma2      1.078e+06   2.81e+04     38.355      0.000    1.02e+06    1.13e+06\n",
       "===================================================================================\n",
       "Ljung-Box (L1) (Q):                   1.59   Jarque-Bera (JB):              2436.20\n",
       "Prob(Q):                              0.21   Prob(JB):                         0.00\n",
       "Heteroskedasticity (H):              12.16   Skew:                             0.29\n",
       "Prob(H) (two-sided):                  0.00   Kurtosis:                        14.66\n",
       "===================================================================================\n",
       "\n",
       "Warnings:\n",
       "[1] Covariance matrix calculated using the outer product of gradients (complex-step).\n",
       "\"\"\""
      ]
     },
     "execution_count": 106,
     "metadata": {},
     "output_type": "execute_result"
    }
   ],
   "source": [
    "#!pip install pmdarima\n",
    "from pmdarima.arima import auto_arima\n",
    "# Fit auto_arima function to AirPassengers dataset \n",
    "stepwise_fit = auto_arima(df['Price'], start_p = 1, start_q = 1, \n",
    "                          max_p = 2, max_q = 2, m = 1, \n",
    "                          start_P = 0, seasonal = False, \n",
    "                          d = None, D = 1, trace = True, \n",
    "                          error_action ='ignore',    # we don't want to know if an order does not work \n",
    "                          suppress_warnings = True,  # we don't want convergence warnings \n",
    "                          stepwise = True)           # set to stepwise \n",
    "  \n",
    "# To print the summary \n",
    "stepwise_fit.summary() \n",
    "\n",
    "#https://alkaline-ml.com/pmdarima/0.9.0/modules/generated/pyramid.arima.auto_arima.html\n",
    "#https://alkaline-ml.com/pmdarima/0.9.0/tips_and_tricks.html#period"
   ]
  },
  {
   "cell_type": "code",
   "execution_count": 100,
   "metadata": {},
   "outputs": [
    {
     "name": "stdout",
     "output_type": "stream",
     "text": [
      "No of observations under train1=87\n",
      "No of observations under test1=86\n",
      "No of observations under train2=173\n",
      "No of observations under test2=86\n",
      "No of observations under train3=259\n",
      "No of observations under test3=86\n",
      "No of observations under train4=345\n",
      "No of observations under test4=86\n"
     ]
    }
   ],
   "source": [
    "from sklearn.model_selection import TimeSeriesSplit\n",
    "data = pd.DataFrame(df[\"Price\"])\n",
    "\n",
    "#Specify fold and perform splitting\n",
    "tscv = TimeSeriesSplit(n_splits=4)\n",
    "\n",
    "#Find out no of observations in train and test sets\n",
    "i=0\n",
    "for train, test in tscv.split(data):\n",
    "    i=i+1\n",
    "    print (\"No of observations under train%s=%s\" % (i, len(train)))\n",
    "    print (\"No of observations under test%s=%s\" % (i, len(test)))"
   ]
  },
  {
   "cell_type": "code",
   "execution_count": 101,
   "metadata": {},
   "outputs": [],
   "source": [
    "train1, test1 = data.iloc[:87, 0], data.iloc[87:173, 0]\n",
    "train2, test2 = data.iloc[:173, 0], data.iloc[173:259, 0]\n",
    "train3, test3 = data.iloc[:259, 0], data.iloc[259:345, 0]\n",
    "train4, test4 = data.iloc[:345, 0], data.iloc[345:431, 0]"
   ]
  },
  {
   "cell_type": "code",
   "execution_count": 107,
   "metadata": {},
   "outputs": [
    {
     "name": "stdout",
     "output_type": "stream",
     "text": [
      "RMSE1: 10595.81\n",
      "RMSE2: 2657.59\n",
      "RMSE3: 4313.6\n",
      "RMSE4: 7569.12\n",
      "Overall RMSE: 6284.03\n"
     ]
    },
    {
     "name": "stderr",
     "output_type": "stream",
     "text": [
      "/Users/radhikagarg/opt/anaconda3/lib/python3.8/site-packages/statsmodels/tsa/base/tsa_model.py:524: ValueWarning: No frequency information was provided, so inferred frequency D will be used.\n",
      "  warnings.warn('No frequency information was'\n",
      "/Users/radhikagarg/opt/anaconda3/lib/python3.8/site-packages/statsmodels/tsa/base/tsa_model.py:524: ValueWarning: No frequency information was provided, so inferred frequency D will be used.\n",
      "  warnings.warn('No frequency information was'\n",
      "/Users/radhikagarg/opt/anaconda3/lib/python3.8/site-packages/statsmodels/tsa/base/tsa_model.py:524: ValueWarning: No frequency information was provided, so inferred frequency D will be used.\n",
      "  warnings.warn('No frequency information was'\n",
      "/Users/radhikagarg/opt/anaconda3/lib/python3.8/site-packages/statsmodels/tsa/base/tsa_model.py:524: ValueWarning: No frequency information was provided, so inferred frequency D will be used.\n",
      "  warnings.warn('No frequency information was'\n",
      "/Users/radhikagarg/opt/anaconda3/lib/python3.8/site-packages/statsmodels/tsa/base/tsa_model.py:524: ValueWarning: No frequency information was provided, so inferred frequency D will be used.\n",
      "  warnings.warn('No frequency information was'\n",
      "/Users/radhikagarg/opt/anaconda3/lib/python3.8/site-packages/statsmodels/tsa/base/tsa_model.py:524: ValueWarning: No frequency information was provided, so inferred frequency D will be used.\n",
      "  warnings.warn('No frequency information was'\n",
      "/Users/radhikagarg/opt/anaconda3/lib/python3.8/site-packages/statsmodels/tsa/base/tsa_model.py:524: ValueWarning: No frequency information was provided, so inferred frequency D will be used.\n",
      "  warnings.warn('No frequency information was'\n",
      "/Users/radhikagarg/opt/anaconda3/lib/python3.8/site-packages/statsmodels/tsa/base/tsa_model.py:524: ValueWarning: No frequency information was provided, so inferred frequency D will be used.\n",
      "  warnings.warn('No frequency information was'\n"
     ]
    }
   ],
   "source": [
    "from sklearn.metrics import mean_squared_error\n",
    "from math import sqrt\n",
    "\n",
    "#First fold RMSE\n",
    "model1 = sm.tsa.statespace.SARIMAX(train1, order=(2,2,0),seasonal_oreder=(0,0,0,0)).fit()\n",
    "pred1 = model1.predict(start=test1.index[0], end=test1.index[-1])\n",
    "RMSE1=round(sqrt(mean_squared_error(test1, pred1)),2)\n",
    "\n",
    "#Second fold RMSE\n",
    "model2 = sm.tsa.statespace.SARIMAX(train2, order=(2,2,0),seasonal_oreder=(0,0,0,0)).fit()\n",
    "pred2 = model2.predict(start=test2.index[0], end=test2.index[-1])\n",
    "RMSE2=round(sqrt(mean_squared_error(test2, pred2)),2)\n",
    "\n",
    "#Third fold RMSE\n",
    "model3 = sm.tsa.statespace.SARIMAX(train3, order=(2,2,0),seasonal_oreder=(0,0,0,0)).fit()\n",
    "pred3 = model3.predict(start=test3.index[0], end=test3.index[-1])\n",
    "RMSE3=round(sqrt(mean_squared_error(test3, pred3)),2)\n",
    "\n",
    "model4 = sm.tsa.statespace.SARIMAX(train4, order=(2,2,0),seasonal_oreder=(0,0,0,0)).fit()\n",
    "pred4 = model3.predict(start=test4.index[0], end=test4.index[-1])\n",
    "RMSE4=round(sqrt(mean_squared_error(test4, pred4)),2)\n",
    "\n",
    "\n",
    "\n",
    "print (\"RMSE1:\", RMSE1)\n",
    "print (\"RMSE2:\", RMSE2)\n",
    "print (\"RMSE3:\", RMSE3)\n",
    "print (\"RMSE4:\", RMSE4)\n",
    "\n",
    "Overall_RMSE=round((RMSE1+RMSE2+RMSE3+RMSE4)/4,2)\n",
    "print (\"Overall RMSE:\", Overall_RMSE) \n"
   ]
  },
  {
   "cell_type": "code",
   "execution_count": 108,
   "metadata": {},
   "outputs": [
    {
     "data": {
      "text/plain": [
       "<matplotlib.patches.Polygon at 0x7fed9966bb20>"
      ]
     },
     "execution_count": 108,
     "metadata": {},
     "output_type": "execute_result"
    },
    {
     "data": {
      "image/png": "[encoded data removed]",
      "text/plain": [
       "<Figure size 1008x576 with 1 Axes>"
      ]
     },
     "metadata": {
      "needs_background": "light"
     },
     "output_type": "display_data"
    }
   ],
   "source": [
    "#plt.style.use('fivethirtyeight')\n",
    "from pylab import rcParams\n",
    "rcParams['figure.figsize'] = 14,8\n",
    "\n",
    "#Labels and titles\n",
    "plt.xlabel(\"Date\")\n",
    "plt.ylabel(\"Closing Price\")\n",
    "plt.title(\"4 fold cross-validation\")\n",
    "\n",
    "#First fold- CV\n",
    "plt.plot(train1.index, train1, label='Train1')\n",
    "plt.plot(test1.index, test1, label='Test1')\n",
    "plt.plot(pred1.index, pred1, label='SARIMAX1')\n",
    "plt.legend(loc='best')\n",
    "#Highlighting the region\n",
    "plt.axvspan(test1.index[0], test1.index[-1],  facecolor='g', alpha=0.1)\n",
    "\n",
    "#Second fold\n",
    "plt.plot(train2.index, train2, label='Train2')\n",
    "plt.plot(test2.index, test2, label='Test2')\n",
    "plt.plot(pred2.index, pred2, label='SARIMAX2')\n",
    "plt.legend(loc='best')\n",
    "#Highlighting the region\n",
    "plt.axvspan(test2.index[0], test2.index[-1],  facecolor='r', alpha=0.2)\n",
    "\n",
    "#Third fold\n",
    "plt.plot(test3.index, test3, label='Test3')\n",
    "plt.plot(pred3.index, pred3, label='SARIMAX3')\n",
    "plt.legend(loc='best')\n",
    "#Highlighting the region\n",
    "plt.axvspan(test3.index[0], test3.index[-1],  facecolor='b', alpha=0.3)\n",
    "\n",
    "#Third fold\n",
    "plt.plot(test4.index, test4, label='Test4')\n",
    "plt.plot(pred4.index, pred4, label='SARIMAX4')\n",
    "plt.legend(loc='best')\n",
    "#Highlighting the region\n",
    "plt.axvspan(test4.index[0], test4.index[-1],  facecolor='y', alpha=0.3)\n"
   ]
  },
  {
   "cell_type": "code",
   "execution_count": null,
   "metadata": {},
   "outputs": [],
   "source": []
  }
 ],
 "metadata": {
  "kernelspec": {
   "display_name": "Python 3",
   "language": "python",
   "name": "python3"
  },
  "language_info": {
   "codemirror_mode": {
    "name": "ipython",
    "version": 3
   },
   "file_extension": ".py",
   "mimetype": "text/x-python",
   "name": "python",
   "nbconvert_exporter": "python",
   "pygments_lexer": "ipython3",
   "version": "3.8.5"
  }
 },
 "nbformat": 4,
 "nbformat_minor": 4
}

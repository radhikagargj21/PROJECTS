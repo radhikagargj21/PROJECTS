{
 "cells": [
  {
   "cell_type": "markdown",
   "metadata": {},
   "source": [
    "# Time Series Analysis of Cryptocurrency Bitcoin"
   ]
  },
  {
   "cell_type": "code",
   "execution_count": 1,
   "metadata": {},
   "outputs": [],
   "source": [
    "import numpy as np\n",
    "import pandas as pd\n",
    "import seaborn as sns\n",
    "import matplotlib.pyplot as plt\n",
    "%matplotlib inline"
   ]
  },
  {
   "cell_type": "code",
   "execution_count": 3,
   "metadata": {},
   "outputs": [
    {
     "data": {
      "text/html": [
       "<div>\n",
       "<style scoped>\n",
       "    .dataframe tbody tr th:only-of-type {\n",
       "        vertical-align: middle;\n",
       "    }\n",
       "\n",
       "    .dataframe tbody tr th {\n",
       "        vertical-align: top;\n",
       "    }\n",
       "\n",
       "    .dataframe thead th {\n",
       "        text-align: right;\n",
       "    }\n",
       "</style>\n",
       "<table border=\"1\" class=\"dataframe\">\n",
       "  <thead>\n",
       "    <tr style=\"text-align: right;\">\n",
       "      <th></th>\n",
       "      <th>Date</th>\n",
       "      <th>Price</th>\n",
       "      <th>Open</th>\n",
       "      <th>High</th>\n",
       "      <th>Low</th>\n",
       "      <th>Vol.</th>\n",
       "      <th>Change %</th>\n",
       "      <th>MktCap</th>\n",
       "      <th>Tradecount</th>\n",
       "    </tr>\n",
       "  </thead>\n",
       "  <tbody>\n",
       "    <tr>\n",
       "      <th>426</th>\n",
       "      <td>2021-03-02</td>\n",
       "      <td>1.224643</td>\n",
       "      <td>1.296248</td>\n",
       "      <td>1.298971</td>\n",
       "      <td>1.182334</td>\n",
       "      <td>1.100000e+09</td>\n",
       "      <td>-0.0552</td>\n",
       "      <td>39155277835</td>\n",
       "      <td>993914</td>\n",
       "    </tr>\n",
       "    <tr>\n",
       "      <th>427</th>\n",
       "      <td>2021-03-03</td>\n",
       "      <td>1.214324</td>\n",
       "      <td>1.224523</td>\n",
       "      <td>1.265522</td>\n",
       "      <td>1.209046</td>\n",
       "      <td>7.070200e+08</td>\n",
       "      <td>-0.0084</td>\n",
       "      <td>38868096418</td>\n",
       "      <td>529175</td>\n",
       "    </tr>\n",
       "    <tr>\n",
       "      <th>428</th>\n",
       "      <td>2021-03-04</td>\n",
       "      <td>1.112490</td>\n",
       "      <td>1.214405</td>\n",
       "      <td>1.229926</td>\n",
       "      <td>1.068434</td>\n",
       "      <td>1.100000e+09</td>\n",
       "      <td>-0.0839</td>\n",
       "      <td>35618147966</td>\n",
       "      <td>882082</td>\n",
       "    </tr>\n",
       "    <tr>\n",
       "      <th>429</th>\n",
       "      <td>2021-03-05</td>\n",
       "      <td>1.158227</td>\n",
       "      <td>1.112463</td>\n",
       "      <td>1.195702</td>\n",
       "      <td>1.037863</td>\n",
       "      <td>1.310000e+09</td>\n",
       "      <td>0.0411</td>\n",
       "      <td>37332335359</td>\n",
       "      <td>1132387</td>\n",
       "    </tr>\n",
       "    <tr>\n",
       "      <th>430</th>\n",
       "      <td>2021-03-06</td>\n",
       "      <td>1.129016</td>\n",
       "      <td>1.158277</td>\n",
       "      <td>1.181553</td>\n",
       "      <td>1.086688</td>\n",
       "      <td>7.570800e+08</td>\n",
       "      <td>-0.0252</td>\n",
       "      <td>36133913814</td>\n",
       "      <td>671557</td>\n",
       "    </tr>\n",
       "  </tbody>\n",
       "</table>\n",
       "</div>"
      ],
      "text/plain": [
       "          Date     Price      Open      High       Low          Vol.  \\\n",
       "426 2021-03-02  1.224643  1.296248  1.298971  1.182334  1.100000e+09   \n",
       "427 2021-03-03  1.214324  1.224523  1.265522  1.209046  7.070200e+08   \n",
       "428 2021-03-04  1.112490  1.214405  1.229926  1.068434  1.100000e+09   \n",
       "429 2021-03-05  1.158227  1.112463  1.195702  1.037863  1.310000e+09   \n",
       "430 2021-03-06  1.129016  1.158277  1.181553  1.086688  7.570800e+08   \n",
       "\n",
       "     Change %       MktCap  Tradecount  \n",
       "426   -0.0552  39155277835      993914  \n",
       "427   -0.0084  38868096418      529175  \n",
       "428   -0.0839  35618147966      882082  \n",
       "429    0.0411  37332335359     1132387  \n",
       "430   -0.0252  36133913814      671557  "
      ]
     },
     "execution_count": 3,
     "metadata": {},
     "output_type": "execute_result"
    }
   ],
   "source": [
    "df=pd.read_excel(r'/Users/radhikagarg/Desktop/TP TERM 3/TP/data/Cardano.xlsx',sheet_name='cardano_2020')\n",
    "df.tail()"
   ]
  },
  {
   "cell_type": "code",
   "execution_count": 4,
   "metadata": {},
   "outputs": [
    {
     "name": "stdout",
     "output_type": "stream",
     "text": [
      "<class 'pandas.core.frame.DataFrame'>\n",
      "RangeIndex: 431 entries, 0 to 430\n",
      "Data columns (total 9 columns):\n",
      " #   Column      Non-Null Count  Dtype         \n",
      "---  ------      --------------  -----         \n",
      " 0   Date        431 non-null    datetime64[ns]\n",
      " 1   Price       431 non-null    float64       \n",
      " 2   Open        431 non-null    float64       \n",
      " 3   High        431 non-null    float64       \n",
      " 4   Low         431 non-null    float64       \n",
      " 5   Vol.        430 non-null    float64       \n",
      " 6   Change %    431 non-null    float64       \n",
      " 7   MktCap      431 non-null    int64         \n",
      " 8   Tradecount  431 non-null    int64         \n",
      "dtypes: datetime64[ns](1), float64(6), int64(2)\n",
      "memory usage: 30.4 KB\n",
      "None\n"
     ]
    }
   ],
   "source": [
    "print(df.info())\n",
    "# 1161 rows depicting daily bitcoin prices from 2018 to 2021 with no issing data values in any feild"
   ]
  },
  {
   "cell_type": "code",
   "execution_count": 5,
   "metadata": {},
   "outputs": [
    {
     "data": {
      "text/plain": [
       "Text(0.5, 1.0, 'Closing price Trend')"
      ]
     },
     "execution_count": 5,
     "metadata": {},
     "output_type": "execute_result"
    },
    {
     "data": {
      "image/png": "[encoded data removed]",
      "text/plain": [
       "<Figure size 432x288 with 1 Axes>"
      ]
     },
     "metadata": {
      "needs_background": "light"
     },
     "output_type": "display_data"
    }
   ],
   "source": [
    "# PLOTTING Closing Prices against Dates.\n",
    "plt.scatter(df.Date,df.Price)\n",
    "plt.xlabel(\"Date\")\n",
    "plt.ylabel(\"Closing price\")\n",
    "plt.title(\"Closing price Trend\")"
   ]
  },
  {
   "cell_type": "code",
   "execution_count": 6,
   "metadata": {},
   "outputs": [
    {
     "data": {
      "text/html": [
       "<div>\n",
       "<style scoped>\n",
       "    .dataframe tbody tr th:only-of-type {\n",
       "        vertical-align: middle;\n",
       "    }\n",
       "\n",
       "    .dataframe tbody tr th {\n",
       "        vertical-align: top;\n",
       "    }\n",
       "\n",
       "    .dataframe thead th {\n",
       "        text-align: right;\n",
       "    }\n",
       "</style>\n",
       "<table border=\"1\" class=\"dataframe\">\n",
       "  <thead>\n",
       "    <tr style=\"text-align: right;\">\n",
       "      <th></th>\n",
       "      <th>Price</th>\n",
       "      <th>Open</th>\n",
       "      <th>High</th>\n",
       "      <th>Low</th>\n",
       "      <th>Vol.</th>\n",
       "      <th>Change %</th>\n",
       "      <th>MktCap</th>\n",
       "      <th>Tradecount</th>\n",
       "    </tr>\n",
       "  </thead>\n",
       "  <tbody>\n",
       "    <tr>\n",
       "      <th>count</th>\n",
       "      <td>431.000000</td>\n",
       "      <td>431.000000</td>\n",
       "      <td>431.000000</td>\n",
       "      <td>431.000000</td>\n",
       "      <td>4.300000e+02</td>\n",
       "      <td>431.000000</td>\n",
       "      <td>4.310000e+02</td>\n",
       "      <td>4.310000e+02</td>\n",
       "    </tr>\n",
       "    <tr>\n",
       "      <th>mean</th>\n",
       "      <td>0.168904</td>\n",
       "      <td>0.166407</td>\n",
       "      <td>0.176843</td>\n",
       "      <td>0.156625</td>\n",
       "      <td>8.005223e+08</td>\n",
       "      <td>0.010433</td>\n",
       "      <td>5.048027e+09</td>\n",
       "      <td>1.807262e+05</td>\n",
       "    </tr>\n",
       "    <tr>\n",
       "      <th>std</th>\n",
       "      <td>0.243547</td>\n",
       "      <td>0.239237</td>\n",
       "      <td>0.257767</td>\n",
       "      <td>0.220752</td>\n",
       "      <td>5.530758e+08</td>\n",
       "      <td>0.066242</td>\n",
       "      <td>7.718098e+09</td>\n",
       "      <td>2.945443e+05</td>\n",
       "    </tr>\n",
       "    <tr>\n",
       "      <th>min</th>\n",
       "      <td>0.023222</td>\n",
       "      <td>0.023225</td>\n",
       "      <td>0.026454</td>\n",
       "      <td>0.017774</td>\n",
       "      <td>6.803000e+07</td>\n",
       "      <td>-0.414900</td>\n",
       "      <td>6.212325e+08</td>\n",
       "      <td>6.116000e+03</td>\n",
       "    </tr>\n",
       "    <tr>\n",
       "      <th>25%</th>\n",
       "      <td>0.051624</td>\n",
       "      <td>0.051503</td>\n",
       "      <td>0.054221</td>\n",
       "      <td>0.050664</td>\n",
       "      <td>4.422950e+08</td>\n",
       "      <td>-0.024950</td>\n",
       "      <td>1.347976e+09</td>\n",
       "      <td>4.681450e+04</td>\n",
       "    </tr>\n",
       "    <tr>\n",
       "      <th>50%</th>\n",
       "      <td>0.096851</td>\n",
       "      <td>0.096825</td>\n",
       "      <td>0.099746</td>\n",
       "      <td>0.092752</td>\n",
       "      <td>6.114900e+08</td>\n",
       "      <td>0.006600</td>\n",
       "      <td>2.906296e+09</td>\n",
       "      <td>7.513100e+04</td>\n",
       "    </tr>\n",
       "    <tr>\n",
       "      <th>75%</th>\n",
       "      <td>0.142738</td>\n",
       "      <td>0.141941</td>\n",
       "      <td>0.148062</td>\n",
       "      <td>0.137172</td>\n",
       "      <td>9.704625e+08</td>\n",
       "      <td>0.039000</td>\n",
       "      <td>3.809831e+09</td>\n",
       "      <td>1.610920e+05</td>\n",
       "    </tr>\n",
       "    <tr>\n",
       "      <th>max</th>\n",
       "      <td>1.316575</td>\n",
       "      <td>1.316618</td>\n",
       "      <td>1.484147</td>\n",
       "      <td>1.233117</td>\n",
       "      <td>3.070000e+09</td>\n",
       "      <td>0.332300</td>\n",
       "      <td>4.128961e+10</td>\n",
       "      <td>2.344043e+06</td>\n",
       "    </tr>\n",
       "  </tbody>\n",
       "</table>\n",
       "</div>"
      ],
      "text/plain": [
       "            Price        Open        High         Low          Vol.  \\\n",
       "count  431.000000  431.000000  431.000000  431.000000  4.300000e+02   \n",
       "mean     0.168904    0.166407    0.176843    0.156625  8.005223e+08   \n",
       "std      0.243547    0.239237    0.257767    0.220752  5.530758e+08   \n",
       "min      0.023222    0.023225    0.026454    0.017774  6.803000e+07   \n",
       "25%      0.051624    0.051503    0.054221    0.050664  4.422950e+08   \n",
       "50%      0.096851    0.096825    0.099746    0.092752  6.114900e+08   \n",
       "75%      0.142738    0.141941    0.148062    0.137172  9.704625e+08   \n",
       "max      1.316575    1.316618    1.484147    1.233117  3.070000e+09   \n",
       "\n",
       "         Change %        MktCap    Tradecount  \n",
       "count  431.000000  4.310000e+02  4.310000e+02  \n",
       "mean     0.010433  5.048027e+09  1.807262e+05  \n",
       "std      0.066242  7.718098e+09  2.945443e+05  \n",
       "min     -0.414900  6.212325e+08  6.116000e+03  \n",
       "25%     -0.024950  1.347976e+09  4.681450e+04  \n",
       "50%      0.006600  2.906296e+09  7.513100e+04  \n",
       "75%      0.039000  3.809831e+09  1.610920e+05  \n",
       "max      0.332300  4.128961e+10  2.344043e+06  "
      ]
     },
     "execution_count": 6,
     "metadata": {},
     "output_type": "execute_result"
    }
   ],
   "source": [
    "import datetime\n",
    "df['Date']=pd.to_datetime(df['Date']) # setting month as index to exclude month from describe calcs\n",
    "df.head()\n",
    "df.describe()"
   ]
  },
  {
   "cell_type": "code",
   "execution_count": 7,
   "metadata": {},
   "outputs": [],
   "source": [
    "df.set_index('Date',inplace=True)"
   ]
  },
  {
   "cell_type": "markdown",
   "metadata": {},
   "source": [
    "# Differencing"
   ]
  },
  {
   "cell_type": "markdown",
   "metadata": {},
   "source": [
    "Time-Series Components\n",
    "There are three components of time-series data:\n",
    "Trend: the movement of the data on a larger scale (moving average)\n",
    "Seasonality: repeated seasonal fluctuations\n",
    "Residual: any fluctuations not captured from trend or seasonality (should be random)\n",
    "A time series can be modeled as an additive or multiplicative time-series depending on its nature of trend and seasonality.\n",
    "Additive Time Series\n",
    "observed = Trend + Seasonal + Residual\n",
    "Multiplicative Time Series\n",
    "observed = Trend × Seasonal × Residual\n",
    "\n",
    "Based on data values, if the magnitude of seasonality changes over time (see image on the right), then the data \n",
    "is multiplicative. Our data, however, does not show clear evidence of growing or shrinking magnitude of seasonality,\n",
    "so we assume it is an additive time series. Please take a look at it once again.\n",
    "\n",
    "we are using freq= 7*4*3 (~3 months) to model our data. You can tune it by holding into trend visualizations. If the trend's visualizations are smooth, and the seasonal has patterns, then it's good to continue. \n",
    "The extrapolate_trend='freq' will make the length of the residual, trend, and seasonal the same by taking care of any missing values at the beginning of the series. "
   ]
  },
  {
   "cell_type": "code",
   "execution_count": 14,
   "metadata": {},
   "outputs": [],
   "source": [
    "from statsmodels.tsa.stattools import adfuller\n",
    "def test_stationarity(timeseries):\n",
    "    \n",
    "    #Determing rolling statistics\n",
    "    # Super not sure how to determin this... We'll have to do some research\n",
    "    # 7 to 14 days seems reasonable to find overall trends\n",
    "    rolmean = pd.Series(timeseries).rolling(window=14).mean()\n",
    "\n",
    "    #Plot rolling statistics:\n",
    "    fig = plt.figure(figsize=(12, 8))\n",
    "    orig = plt.plot(timeseries, color='blue',label='Original')\n",
    "    mean = plt.plot(rolmean, color='red', label='Rolling Mean')\n",
    "    plt.legend(loc='best')\n",
    "    plt.title('Rolling Mean')\n",
    "    plt.show()\n",
    "    \n",
    "    #Perform Dickey-Fuller test:\n",
    "    print('Results of Dickey-Fuller Test:')\n",
    "    dftest = adfuller(timeseries, autolag='AIC')\n",
    "    dfoutput = pd.Series(dftest[0:4], index=['Test Statistic','p-value','#Lags Used','Number of Observations Used'])\n",
    "    for key,value in list(dftest[4].items()):\n",
    "        dfoutput['Critical Value (%s)'%key] = value\n",
    "    print(dfoutput)"
   ]
  },
  {
   "cell_type": "code",
   "execution_count": 48,
   "metadata": {},
   "outputs": [
    {
     "data": {
      "image/png": "[encoded data removed]",
      "text/plain": [
       "<Figure size 864x576 with 1 Axes>"
      ]
     },
     "metadata": {
      "needs_background": "light"
     },
     "output_type": "display_data"
    },
    {
     "name": "stdout",
     "output_type": "stream",
     "text": [
      "Results of Dickey-Fuller Test:\n",
      "Test Statistic                  -2.118595\n",
      "p-value                          0.237103\n",
      "#Lags Used                      18.000000\n",
      "Number of Observations Used    409.000000\n",
      "Critical Value (1%)             -3.446440\n",
      "Critical Value (5%)             -2.868633\n",
      "Critical Value (10%)            -2.570548\n",
      "dtype: float64\n"
     ]
    }
   ],
   "source": [
    "#prev 2 day dependency is seen\n",
    "df['third_difference'] = df.Price - df.Price.shift(3)  \n",
    "test_stationarity(df.third_difference.dropna(inplace=False))"
   ]
  },
  {
   "cell_type": "code",
   "execution_count": 49,
   "metadata": {},
   "outputs": [
    {
     "data": {
      "image/png": "[encoded data removed]",
      "text/plain": [
       "<Figure size 864x576 with 1 Axes>"
      ]
     },
     "metadata": {
      "needs_background": "light"
     },
     "output_type": "display_data"
    },
    {
     "name": "stdout",
     "output_type": "stream",
     "text": [
      "Results of Dickey-Fuller Test:\n",
      "Test Statistic                 -0.420619\n",
      "p-value                         0.906599\n",
      "#Lags Used                      0.000000\n",
      "Number of Observations Used    65.000000\n",
      "Critical Value (1%)            -3.535217\n",
      "Critical Value (5%)            -2.907154\n",
      "Critical Value (10%)           -2.591103\n",
      "dtype: float64\n"
     ]
    }
   ],
   "source": [
    "#prev 365 day dependency/annual is not seen\n",
    "df['seasonal_difference'] = df.Price - df.Price.shift(365)  \n",
    "test_stationarity(df.seasonal_difference.dropna(inplace=False))"
   ]
  },
  {
   "cell_type": "code",
   "execution_count": 51,
   "metadata": {},
   "outputs": [
    {
     "data": {
      "image/png": "[encoded data removed]",
      "text/plain": [
       "<Figure size 864x576 with 2 Axes>"
      ]
     },
     "metadata": {
      "needs_background": "light"
     },
     "output_type": "display_data"
    }
   ],
   "source": [
    "import statsmodels.api as sm\n",
    "fig = plt.figure(figsize=(12,8))\n",
    "ax1 = fig.add_subplot(211)\n",
    "fig = sm.graphics.tsa.plot_acf(df.third_difference.iloc[3:], lags=20, ax=ax1)\n",
    "ax2 = fig.add_subplot(212)\n",
    "fig = sm.graphics.tsa.plot_pacf(df.third_difference.iloc[3:], lags=20, ax=ax2)\n",
    "plt.show()\n",
    "\n",
    "#p=2,\n",
    "#d=3,\n",
    "#q=3,"
   ]
  },
  {
   "cell_type": "code",
   "execution_count": 52,
   "metadata": {},
   "outputs": [
    {
     "data": {
      "text/html": [
       "<div>\n",
       "<style scoped>\n",
       "    .dataframe tbody tr th:only-of-type {\n",
       "        vertical-align: middle;\n",
       "    }\n",
       "\n",
       "    .dataframe tbody tr th {\n",
       "        vertical-align: top;\n",
       "    }\n",
       "\n",
       "    .dataframe thead th {\n",
       "        text-align: right;\n",
       "    }\n",
       "</style>\n",
       "<table border=\"1\" class=\"dataframe\">\n",
       "  <thead>\n",
       "    <tr style=\"text-align: right;\">\n",
       "      <th></th>\n",
       "      <th>Price</th>\n",
       "      <th>Open</th>\n",
       "      <th>High</th>\n",
       "      <th>Low</th>\n",
       "      <th>Vol.</th>\n",
       "      <th>Change %</th>\n",
       "      <th>MktCap</th>\n",
       "      <th>Tradecount</th>\n",
       "      <th>second_difference</th>\n",
       "      <th>seasonal_difference</th>\n",
       "      <th>third_difference</th>\n",
       "    </tr>\n",
       "    <tr>\n",
       "      <th>Date</th>\n",
       "      <th></th>\n",
       "      <th></th>\n",
       "      <th></th>\n",
       "      <th></th>\n",
       "      <th></th>\n",
       "      <th></th>\n",
       "      <th></th>\n",
       "      <th></th>\n",
       "      <th></th>\n",
       "      <th></th>\n",
       "      <th></th>\n",
       "    </tr>\n",
       "  </thead>\n",
       "  <tbody>\n",
       "    <tr>\n",
       "      <th>2021-03-02</th>\n",
       "      <td>1.224643</td>\n",
       "      <td>1.296248</td>\n",
       "      <td>1.298971</td>\n",
       "      <td>1.182334</td>\n",
       "      <td>1.100000e+09</td>\n",
       "      <td>-0.0552</td>\n",
       "      <td>39155277835</td>\n",
       "      <td>993914</td>\n",
       "      <td>-0.091932</td>\n",
       "      <td>1.175460</td>\n",
       "      <td>-0.091932</td>\n",
       "    </tr>\n",
       "    <tr>\n",
       "      <th>2021-03-03</th>\n",
       "      <td>1.214324</td>\n",
       "      <td>1.224523</td>\n",
       "      <td>1.265522</td>\n",
       "      <td>1.209046</td>\n",
       "      <td>7.070200e+08</td>\n",
       "      <td>-0.0084</td>\n",
       "      <td>38868096418</td>\n",
       "      <td>529175</td>\n",
       "      <td>-0.093349</td>\n",
       "      <td>1.165670</td>\n",
       "      <td>-0.093349</td>\n",
       "    </tr>\n",
       "    <tr>\n",
       "      <th>2021-03-04</th>\n",
       "      <td>1.112490</td>\n",
       "      <td>1.214405</td>\n",
       "      <td>1.229926</td>\n",
       "      <td>1.068434</td>\n",
       "      <td>1.100000e+09</td>\n",
       "      <td>-0.0839</td>\n",
       "      <td>35618147966</td>\n",
       "      <td>882082</td>\n",
       "      <td>-0.183710</td>\n",
       "      <td>1.063478</td>\n",
       "      <td>-0.183710</td>\n",
       "    </tr>\n",
       "    <tr>\n",
       "      <th>2021-03-05</th>\n",
       "      <td>1.158227</td>\n",
       "      <td>1.112463</td>\n",
       "      <td>1.195702</td>\n",
       "      <td>1.037863</td>\n",
       "      <td>1.310000e+09</td>\n",
       "      <td>0.0411</td>\n",
       "      <td>37332335359</td>\n",
       "      <td>1132387</td>\n",
       "      <td>-0.066416</td>\n",
       "      <td>1.107296</td>\n",
       "      <td>-0.066416</td>\n",
       "    </tr>\n",
       "    <tr>\n",
       "      <th>2021-03-06</th>\n",
       "      <td>1.129016</td>\n",
       "      <td>1.158277</td>\n",
       "      <td>1.181553</td>\n",
       "      <td>1.086688</td>\n",
       "      <td>7.570800e+08</td>\n",
       "      <td>-0.0252</td>\n",
       "      <td>36133913814</td>\n",
       "      <td>671557</td>\n",
       "      <td>-0.085308</td>\n",
       "      <td>1.077275</td>\n",
       "      <td>-0.085308</td>\n",
       "    </tr>\n",
       "  </tbody>\n",
       "</table>\n",
       "</div>"
      ],
      "text/plain": [
       "               Price      Open      High       Low          Vol.  Change %  \\\n",
       "Date                                                                         \n",
       "2021-03-02  1.224643  1.296248  1.298971  1.182334  1.100000e+09   -0.0552   \n",
       "2021-03-03  1.214324  1.224523  1.265522  1.209046  7.070200e+08   -0.0084   \n",
       "2021-03-04  1.112490  1.214405  1.229926  1.068434  1.100000e+09   -0.0839   \n",
       "2021-03-05  1.158227  1.112463  1.195702  1.037863  1.310000e+09    0.0411   \n",
       "2021-03-06  1.129016  1.158277  1.181553  1.086688  7.570800e+08   -0.0252   \n",
       "\n",
       "                 MktCap  Tradecount  second_difference  seasonal_difference  \\\n",
       "Date                                                                          \n",
       "2021-03-02  39155277835      993914          -0.091932             1.175460   \n",
       "2021-03-03  38868096418      529175          -0.093349             1.165670   \n",
       "2021-03-04  35618147966      882082          -0.183710             1.063478   \n",
       "2021-03-05  37332335359     1132387          -0.066416             1.107296   \n",
       "2021-03-06  36133913814      671557          -0.085308             1.077275   \n",
       "\n",
       "            third_difference  \n",
       "Date                          \n",
       "2021-03-02         -0.091932  \n",
       "2021-03-03         -0.093349  \n",
       "2021-03-04         -0.183710  \n",
       "2021-03-05         -0.066416  \n",
       "2021-03-06         -0.085308  "
      ]
     },
     "execution_count": 52,
     "metadata": {},
     "output_type": "execute_result"
    }
   ],
   "source": [
    "df.tail()"
   ]
  },
  {
   "cell_type": "markdown",
   "metadata": {},
   "source": [
    "# AR Model"
   ]
  },
  {
   "cell_type": "markdown",
   "metadata": {},
   "source": [
    "ARIMA models will require (p, d, q) arguments as its order, \n",
    "where: \n",
    "- p: The number of lag included in the model, or also called lag order. Previously defined by looking into PACF visualization\n",
    "- d: Order of difference. In previous section, we know that doing a difference once made the data stationary. Thus, we will use d=1 on original data.\n",
    "- q: The size of moving average windows, or also called moving average order. Previously defined by looking into ACF visualization"
   ]
  },
  {
   "cell_type": "code",
   "execution_count": 54,
   "metadata": {},
   "outputs": [
    {
     "ename": "ValueError",
     "evalue": "d > 2 is not supported",
     "output_type": "error",
     "traceback": [
      "\u001b[0;31m---------------------------------------------------------------------------\u001b[0m",
      "\u001b[0;31mValueError\u001b[0m                                Traceback (most recent call last)",
      "\u001b[0;32m<ipython-input-54-09ffb48f1c52>\u001b[0m in \u001b[0;36m<module>\u001b[0;34m\u001b[0m\n\u001b[1;32m      1\u001b[0m \u001b[0;32mfrom\u001b[0m \u001b[0mstatsmodels\u001b[0m\u001b[0;34m.\u001b[0m\u001b[0mtsa\u001b[0m\u001b[0;34m.\u001b[0m\u001b[0marima_model\u001b[0m \u001b[0;32mimport\u001b[0m \u001b[0mARIMA\u001b[0m\u001b[0;34m\u001b[0m\u001b[0;34m\u001b[0m\u001b[0m\n\u001b[0;32m----> 2\u001b[0;31m \u001b[0mmodel\u001b[0m\u001b[0;34m=\u001b[0m\u001b[0mARIMA\u001b[0m\u001b[0;34m(\u001b[0m\u001b[0mdf\u001b[0m\u001b[0;34m[\u001b[0m\u001b[0;34m'Price'\u001b[0m\u001b[0;34m]\u001b[0m\u001b[0;34m,\u001b[0m\u001b[0morder\u001b[0m\u001b[0;34m=\u001b[0m\u001b[0;34m(\u001b[0m\u001b[0;36m2\u001b[0m\u001b[0;34m,\u001b[0m\u001b[0;36m3\u001b[0m\u001b[0;34m,\u001b[0m\u001b[0;36m3\u001b[0m\u001b[0;34m)\u001b[0m\u001b[0;34m)\u001b[0m\u001b[0;34m\u001b[0m\u001b[0;34m\u001b[0m\u001b[0m\n\u001b[0m\u001b[1;32m      3\u001b[0m \u001b[0mmodel_fit\u001b[0m\u001b[0;34m=\u001b[0m\u001b[0mmodel\u001b[0m\u001b[0;34m.\u001b[0m\u001b[0mfit\u001b[0m\u001b[0;34m(\u001b[0m\u001b[0;34m)\u001b[0m\u001b[0;34m\u001b[0m\u001b[0;34m\u001b[0m\u001b[0m\n\u001b[1;32m      4\u001b[0m \u001b[0;34m\u001b[0m\u001b[0m\n\u001b[1;32m      5\u001b[0m \u001b[0;31m#Based on the model summary, all variables (ar and ma) have a p-value <5%. This means that our model\u001b[0m\u001b[0;34m\u001b[0m\u001b[0;34m\u001b[0m\u001b[0;34m\u001b[0m\u001b[0m\n",
      "\u001b[0;32m~/opt/anaconda3/lib/python3.8/site-packages/statsmodels/tsa/arima_model.py\u001b[0m in \u001b[0;36m__new__\u001b[0;34m(cls, endog, order, exog, dates, freq, missing)\u001b[0m\n\u001b[1;32m   1069\u001b[0m         \u001b[0;32melse\u001b[0m\u001b[0;34m:\u001b[0m\u001b[0;34m\u001b[0m\u001b[0;34m\u001b[0m\u001b[0m\n\u001b[1;32m   1070\u001b[0m             \u001b[0mmod\u001b[0m \u001b[0;34m=\u001b[0m \u001b[0msuper\u001b[0m\u001b[0;34m(\u001b[0m\u001b[0mARIMA\u001b[0m\u001b[0;34m,\u001b[0m \u001b[0mcls\u001b[0m\u001b[0;34m)\u001b[0m\u001b[0;34m.\u001b[0m\u001b[0m__new__\u001b[0m\u001b[0;34m(\u001b[0m\u001b[0mcls\u001b[0m\u001b[0;34m)\u001b[0m\u001b[0;34m\u001b[0m\u001b[0;34m\u001b[0m\u001b[0m\n\u001b[0;32m-> 1071\u001b[0;31m             \u001b[0mmod\u001b[0m\u001b[0;34m.\u001b[0m\u001b[0m__init__\u001b[0m\u001b[0;34m(\u001b[0m\u001b[0mendog\u001b[0m\u001b[0;34m,\u001b[0m \u001b[0morder\u001b[0m\u001b[0;34m,\u001b[0m \u001b[0mexog\u001b[0m\u001b[0;34m,\u001b[0m \u001b[0mdates\u001b[0m\u001b[0;34m,\u001b[0m \u001b[0mfreq\u001b[0m\u001b[0;34m,\u001b[0m \u001b[0mmissing\u001b[0m\u001b[0;34m)\u001b[0m\u001b[0;34m\u001b[0m\u001b[0;34m\u001b[0m\u001b[0m\n\u001b[0m\u001b[1;32m   1072\u001b[0m             \u001b[0;32mreturn\u001b[0m \u001b[0mmod\u001b[0m\u001b[0;34m\u001b[0m\u001b[0;34m\u001b[0m\u001b[0m\n\u001b[1;32m   1073\u001b[0m \u001b[0;34m\u001b[0m\u001b[0m\n",
      "\u001b[0;32m~/opt/anaconda3/lib/python3.8/site-packages/statsmodels/tsa/arima_model.py\u001b[0m in \u001b[0;36m__init__\u001b[0;34m(self, endog, order, exog, dates, freq, missing)\u001b[0m\n\u001b[1;32m   1087\u001b[0m             \u001b[0;31m# TODO: to make more general, need to address the d == 2 stuff\u001b[0m\u001b[0;34m\u001b[0m\u001b[0;34m\u001b[0m\u001b[0;34m\u001b[0m\u001b[0m\n\u001b[1;32m   1088\u001b[0m             \u001b[0;31m#  in the predict method\u001b[0m\u001b[0;34m\u001b[0m\u001b[0;34m\u001b[0m\u001b[0;34m\u001b[0m\u001b[0m\n\u001b[0;32m-> 1089\u001b[0;31m             \u001b[0;32mraise\u001b[0m \u001b[0mValueError\u001b[0m\u001b[0;34m(\u001b[0m\u001b[0;34m\"d > 2 is not supported\"\u001b[0m\u001b[0;34m)\u001b[0m\u001b[0;34m\u001b[0m\u001b[0;34m\u001b[0m\u001b[0m\n\u001b[0m\u001b[1;32m   1090\u001b[0m         \u001b[0msuper\u001b[0m\u001b[0;34m(\u001b[0m\u001b[0mARIMA\u001b[0m\u001b[0;34m,\u001b[0m \u001b[0mself\u001b[0m\u001b[0;34m)\u001b[0m\u001b[0;34m.\u001b[0m\u001b[0m__init__\u001b[0m\u001b[0;34m(\u001b[0m\u001b[0mendog\u001b[0m\u001b[0;34m,\u001b[0m \u001b[0;34m(\u001b[0m\u001b[0mp\u001b[0m\u001b[0;34m,\u001b[0m \u001b[0mq\u001b[0m\u001b[0;34m)\u001b[0m\u001b[0;34m,\u001b[0m \u001b[0mexog\u001b[0m\u001b[0;34m,\u001b[0m \u001b[0mdates\u001b[0m\u001b[0;34m,\u001b[0m \u001b[0mfreq\u001b[0m\u001b[0;34m,\u001b[0m \u001b[0mmissing\u001b[0m\u001b[0;34m)\u001b[0m\u001b[0;34m\u001b[0m\u001b[0;34m\u001b[0m\u001b[0m\n\u001b[1;32m   1091\u001b[0m         \u001b[0mself\u001b[0m\u001b[0;34m.\u001b[0m\u001b[0mk_diff\u001b[0m \u001b[0;34m=\u001b[0m \u001b[0md\u001b[0m\u001b[0;34m\u001b[0m\u001b[0;34m\u001b[0m\u001b[0m\n",
      "\u001b[0;31mValueError\u001b[0m: d > 2 is not supported"
     ]
    }
   ],
   "source": [
    "from statsmodels.tsa.arima_model import ARIMA\n",
    "model=ARIMA(df['Price'],order=(2,3,3))\n",
    "model_fit=model.fit()\n",
    "\n",
    "#Based on the model summary, all variables (ar and ma) have a p-value <5%. This means that our model \n",
    "#really fits into the train data. The AIC, BIC, and HQIC is a score to measure the goodness of our model based on \n",
    "#the train data."
   ]
  },
  {
   "cell_type": "code",
   "execution_count": 21,
   "metadata": {},
   "outputs": [
    {
     "data": {
      "text/html": [
       "<table class=\"simpletable\">\n",
       "<caption>ARIMA Model Results</caption>\n",
       "<tr>\n",
       "  <th>Dep. Variable:</th>     <td>D2.Price</td>     <th>  No. Observations:  </th>    <td>429</td>   \n",
       "</tr>\n",
       "<tr>\n",
       "  <th>Model:</th>          <td>ARIMA(3, 2, 2)</td>  <th>  Log Likelihood     </th> <td>1020.735</td> \n",
       "</tr>\n",
       "<tr>\n",
       "  <th>Method:</th>             <td>css-mle</td>     <th>  S.D. of innovations</th>   <td>0.022</td>  \n",
       "</tr>\n",
       "<tr>\n",
       "  <th>Date:</th>          <td>Sat, 10 Apr 2021</td> <th>  AIC                </th> <td>-2027.470</td>\n",
       "</tr>\n",
       "<tr>\n",
       "  <th>Time:</th>              <td>10:50:12</td>     <th>  BIC                </th> <td>-1999.040</td>\n",
       "</tr>\n",
       "<tr>\n",
       "  <th>Sample:</th>           <td>01-03-2020</td>    <th>  HQIC               </th> <td>-2016.243</td>\n",
       "</tr>\n",
       "<tr>\n",
       "  <th></th>                 <td>- 03-06-2021</td>   <th>                     </th>     <td> </td>    \n",
       "</tr>\n",
       "</table>\n",
       "<table class=\"simpletable\">\n",
       "<tr>\n",
       "         <td></td>           <th>coef</th>     <th>std err</th>      <th>z</th>      <th>P>|z|</th>  <th>[0.025</th>    <th>0.975]</th>  \n",
       "</tr>\n",
       "<tr>\n",
       "  <th>const</th>          <td> 3.499e-05</td> <td> 2.91e-05</td> <td>    1.202</td> <td> 0.229</td> <td> -2.2e-05</td> <td>  9.2e-05</td>\n",
       "</tr>\n",
       "<tr>\n",
       "  <th>ar.L1.D2.Price</th> <td>    0.0502</td> <td>    0.195</td> <td>    0.258</td> <td> 0.797</td> <td>   -0.331</td> <td>    0.432</td>\n",
       "</tr>\n",
       "<tr>\n",
       "  <th>ar.L2.D2.Price</th> <td>    0.1190</td> <td>    0.048</td> <td>    2.466</td> <td> 0.014</td> <td>    0.024</td> <td>    0.214</td>\n",
       "</tr>\n",
       "<tr>\n",
       "  <th>ar.L3.D2.Price</th> <td>   -0.2439</td> <td>    0.055</td> <td>   -4.442</td> <td> 0.000</td> <td>   -0.351</td> <td>   -0.136</td>\n",
       "</tr>\n",
       "<tr>\n",
       "  <th>ma.L1.D2.Price</th> <td>   -0.9828</td> <td>    0.200</td> <td>   -4.915</td> <td> 0.000</td> <td>   -1.375</td> <td>   -0.591</td>\n",
       "</tr>\n",
       "<tr>\n",
       "  <th>ma.L2.D2.Price</th> <td>    0.0091</td> <td>    0.198</td> <td>    0.046</td> <td> 0.963</td> <td>   -0.378</td> <td>    0.396</td>\n",
       "</tr>\n",
       "</table>\n",
       "<table class=\"simpletable\">\n",
       "<caption>Roots</caption>\n",
       "<tr>\n",
       "    <td></td>   <th>            Real</th>  <th>         Imaginary</th> <th>         Modulus</th>  <th>        Frequency</th>\n",
       "</tr>\n",
       "<tr>\n",
       "  <th>AR.1</th> <td>          -1.4920</td> <td>          -0.0000j</td> <td>           1.4920</td> <td>          -0.5000</td>\n",
       "</tr>\n",
       "<tr>\n",
       "  <th>AR.2</th> <td>           0.9901</td> <td>          -1.3298j</td> <td>           1.6579</td> <td>          -0.1481</td>\n",
       "</tr>\n",
       "<tr>\n",
       "  <th>AR.3</th> <td>           0.9901</td> <td>          +1.3298j</td> <td>           1.6579</td> <td>           0.1481</td>\n",
       "</tr>\n",
       "<tr>\n",
       "  <th>MA.1</th> <td>           1.0273</td> <td>          +0.0000j</td> <td>           1.0273</td> <td>           0.0000</td>\n",
       "</tr>\n",
       "<tr>\n",
       "  <th>MA.2</th> <td>         106.6451</td> <td>          +0.0000j</td> <td>         106.6451</td> <td>           0.0000</td>\n",
       "</tr>\n",
       "</table>"
      ],
      "text/plain": [
       "<class 'statsmodels.iolib.summary.Summary'>\n",
       "\"\"\"\n",
       "                             ARIMA Model Results                              \n",
       "==============================================================================\n",
       "Dep. Variable:               D2.Price   No. Observations:                  429\n",
       "Model:                 ARIMA(3, 2, 2)   Log Likelihood                1020.735\n",
       "Method:                       css-mle   S.D. of innovations              0.022\n",
       "Date:                Sat, 10 Apr 2021   AIC                          -2027.470\n",
       "Time:                        10:50:12   BIC                          -1999.040\n",
       "Sample:                    01-03-2020   HQIC                         -2016.243\n",
       "                         - 03-06-2021                                         \n",
       "==================================================================================\n",
       "                     coef    std err          z      P>|z|      [0.025      0.975]\n",
       "----------------------------------------------------------------------------------\n",
       "const           3.499e-05   2.91e-05      1.202      0.229    -2.2e-05     9.2e-05\n",
       "ar.L1.D2.Price     0.0502      0.195      0.258      0.797      -0.331       0.432\n",
       "ar.L2.D2.Price     0.1190      0.048      2.466      0.014       0.024       0.214\n",
       "ar.L3.D2.Price    -0.2439      0.055     -4.442      0.000      -0.351      -0.136\n",
       "ma.L1.D2.Price    -0.9828      0.200     -4.915      0.000      -1.375      -0.591\n",
       "ma.L2.D2.Price     0.0091      0.198      0.046      0.963      -0.378       0.396\n",
       "                                    Roots                                    \n",
       "=============================================================================\n",
       "                  Real          Imaginary           Modulus         Frequency\n",
       "-----------------------------------------------------------------------------\n",
       "AR.1           -1.4920           -0.0000j            1.4920           -0.5000\n",
       "AR.2            0.9901           -1.3298j            1.6579           -0.1481\n",
       "AR.3            0.9901           +1.3298j            1.6579            0.1481\n",
       "MA.1            1.0273           +0.0000j            1.0273            0.0000\n",
       "MA.2          106.6451           +0.0000j          106.6451            0.0000\n",
       "-----------------------------------------------------------------------------\n",
       "\"\"\""
      ]
     },
     "execution_count": 21,
     "metadata": {},
     "output_type": "execute_result"
    }
   ],
   "source": [
    "model_fit.summary()"
   ]
  },
  {
   "cell_type": "code",
   "execution_count": 56,
   "metadata": {
    "scrolled": false
   },
   "outputs": [
    {
     "name": "stdout",
     "output_type": "stream",
     "text": [
      "Performing stepwise search to minimize aic\n",
      " ARIMA(1,2,1)(0,0,0)[0] intercept   : AIC=-2004.447, Time=0.20 sec\n",
      " ARIMA(0,2,0)(0,0,0)[0] intercept   : AIC=-1735.922, Time=0.02 sec\n",
      " ARIMA(1,2,0)(0,0,0)[0] intercept   : AIC=-1882.640, Time=0.04 sec\n",
      " ARIMA(0,2,1)(0,0,0)[0] intercept   : AIC=-2006.076, Time=0.10 sec\n",
      " ARIMA(0,2,0)(0,0,0)[0]             : AIC=-1737.920, Time=0.01 sec\n",
      " ARIMA(0,2,2)(0,0,0)[0] intercept   : AIC=-2004.372, Time=0.23 sec\n",
      " ARIMA(1,2,2)(0,0,0)[0] intercept   : AIC=-2002.098, Time=0.17 sec\n",
      " ARIMA(0,2,1)(0,0,0)[0]             : AIC=-2006.795, Time=0.05 sec\n",
      " ARIMA(1,2,1)(0,0,0)[0]             : AIC=-2005.132, Time=0.07 sec\n",
      " ARIMA(0,2,2)(0,0,0)[0]             : AIC=-2005.065, Time=0.14 sec\n",
      " ARIMA(1,2,0)(0,0,0)[0]             : AIC=-1884.640, Time=0.02 sec\n",
      " ARIMA(1,2,2)(0,0,0)[0]             : AIC=-2006.178, Time=0.21 sec\n",
      "\n",
      "Best model:  ARIMA(0,2,1)(0,0,0)[0]          \n",
      "Total fit time: 1.276 seconds\n"
     ]
    },
    {
     "data": {
      "text/html": [
       "<table class=\"simpletable\">\n",
       "<caption>SARIMAX Results</caption>\n",
       "<tr>\n",
       "  <th>Dep. Variable:</th>           <td>y</td>        <th>  No. Observations:  </th>    <td>431</td>   \n",
       "</tr>\n",
       "<tr>\n",
       "  <th>Model:</th>           <td>SARIMAX(0, 2, 1)</td> <th>  Log Likelihood     </th> <td>1005.398</td> \n",
       "</tr>\n",
       "<tr>\n",
       "  <th>Date:</th>            <td>Sat, 10 Apr 2021</td> <th>  AIC                </th> <td>-2006.795</td>\n",
       "</tr>\n",
       "<tr>\n",
       "  <th>Time:</th>                <td>11:35:35</td>     <th>  BIC                </th> <td>-1998.672</td>\n",
       "</tr>\n",
       "<tr>\n",
       "  <th>Sample:</th>                  <td>0</td>        <th>  HQIC               </th> <td>-2003.587</td>\n",
       "</tr>\n",
       "<tr>\n",
       "  <th></th>                      <td> - 431</td>      <th>                     </th>     <td> </td>    \n",
       "</tr>\n",
       "<tr>\n",
       "  <th>Covariance Type:</th>        <td>opg</td>       <th>                     </th>     <td> </td>    \n",
       "</tr>\n",
       "</table>\n",
       "<table class=\"simpletable\">\n",
       "<tr>\n",
       "     <td></td>       <th>coef</th>     <th>std err</th>      <th>z</th>      <th>P>|z|</th>  <th>[0.025</th>    <th>0.975]</th>  \n",
       "</tr>\n",
       "<tr>\n",
       "  <th>ma.L1</th>  <td>   -0.9744</td> <td>    0.004</td> <td> -222.535</td> <td> 0.000</td> <td>   -0.983</td> <td>   -0.966</td>\n",
       "</tr>\n",
       "<tr>\n",
       "  <th>sigma2</th> <td>    0.0005</td> <td> 8.97e-06</td> <td>   59.727</td> <td> 0.000</td> <td>    0.001</td> <td>    0.001</td>\n",
       "</tr>\n",
       "</table>\n",
       "<table class=\"simpletable\">\n",
       "<tr>\n",
       "  <th>Ljung-Box (L1) (Q):</th>      <td>0.22</td>  <th>  Jarque-Bera (JB):  </th> <td>26560.88</td>\n",
       "</tr>\n",
       "<tr>\n",
       "  <th>Prob(Q):</th>                 <td>0.64</td>  <th>  Prob(JB):          </th>   <td>0.00</td>  \n",
       "</tr>\n",
       "<tr>\n",
       "  <th>Heteroskedasticity (H):</th> <td>217.85</td> <th>  Skew:              </th>   <td>2.96</td>  \n",
       "</tr>\n",
       "<tr>\n",
       "  <th>Prob(H) (two-sided):</th>     <td>0.00</td>  <th>  Kurtosis:          </th>   <td>41.09</td> \n",
       "</tr>\n",
       "</table><br/><br/>Warnings:<br/>[1] Covariance matrix calculated using the outer product of gradients (complex-step)."
      ],
      "text/plain": [
       "<class 'statsmodels.iolib.summary.Summary'>\n",
       "\"\"\"\n",
       "                               SARIMAX Results                                \n",
       "==============================================================================\n",
       "Dep. Variable:                      y   No. Observations:                  431\n",
       "Model:               SARIMAX(0, 2, 1)   Log Likelihood                1005.398\n",
       "Date:                Sat, 10 Apr 2021   AIC                          -2006.795\n",
       "Time:                        11:35:35   BIC                          -1998.672\n",
       "Sample:                             0   HQIC                         -2003.587\n",
       "                                - 431                                         \n",
       "Covariance Type:                  opg                                         \n",
       "==============================================================================\n",
       "                 coef    std err          z      P>|z|      [0.025      0.975]\n",
       "------------------------------------------------------------------------------\n",
       "ma.L1         -0.9744      0.004   -222.535      0.000      -0.983      -0.966\n",
       "sigma2         0.0005   8.97e-06     59.727      0.000       0.001       0.001\n",
       "===================================================================================\n",
       "Ljung-Box (L1) (Q):                   0.22   Jarque-Bera (JB):             26560.88\n",
       "Prob(Q):                              0.64   Prob(JB):                         0.00\n",
       "Heteroskedasticity (H):             217.85   Skew:                             2.96\n",
       "Prob(H) (two-sided):                  0.00   Kurtosis:                        41.09\n",
       "===================================================================================\n",
       "\n",
       "Warnings:\n",
       "[1] Covariance matrix calculated using the outer product of gradients (complex-step).\n",
       "\"\"\""
      ]
     },
     "execution_count": 56,
     "metadata": {},
     "output_type": "execute_result"
    }
   ],
   "source": [
    "#!pip install pmdarima\n",
    "from pmdarima.arima import auto_arima\n",
    "# Fit auto_arima function to AirPassengers dataset \n",
    "stepwise_fit = auto_arima(df['Price'], start_p = 1, start_q = 1, \n",
    "                          max_p = 3, max_q = 3, m = 1, \n",
    "                          start_P = 0, seasonal = False, \n",
    "                          d = None, D = 1, trace = True, \n",
    "                          error_action ='ignore',    # we don't want to know if an order does not work \n",
    "                          suppress_warnings = True,  # we don't want convergence warnings \n",
    "                          stepwise = True)           # set to stepwise \n",
    "  \n",
    "# To print the summary \n",
    "stepwise_fit.summary() \n",
    "\n",
    "#https://alkaline-ml.com/pmdarima/0.9.0/modules/generated/pyramid.arima.auto_arima.html\n",
    "#https://alkaline-ml.com/pmdarima/0.9.0/tips_and_tricks.html#period"
   ]
  },
  {
   "cell_type": "code",
   "execution_count": 23,
   "metadata": {},
   "outputs": [
    {
     "name": "stdout",
     "output_type": "stream",
     "text": [
      "No of observations under train1=87\n",
      "No of observations under test1=86\n",
      "No of observations under train2=173\n",
      "No of observations under test2=86\n",
      "No of observations under train3=259\n",
      "No of observations under test3=86\n",
      "No of observations under train4=345\n",
      "No of observations under test4=86\n"
     ]
    }
   ],
   "source": [
    "from sklearn.model_selection import TimeSeriesSplit\n",
    "data = pd.DataFrame(df[\"Price\"])\n",
    "\n",
    "#Specify fold and perform splitting\n",
    "tscv = TimeSeriesSplit(n_splits=4)\n",
    "\n",
    "#Find out no of observations in train and test sets\n",
    "i=0\n",
    "for train, test in tscv.split(data):\n",
    "    i=i+1\n",
    "    print (\"No of observations under train%s=%s\" % (i, len(train)))\n",
    "    print (\"No of observations under test%s=%s\" % (i, len(test)))"
   ]
  },
  {
   "cell_type": "code",
   "execution_count": 24,
   "metadata": {},
   "outputs": [],
   "source": [
    "train1, test1 = data.iloc[:87, 0], data.iloc[87:173, 0]\n",
    "train2, test2 = data.iloc[:173, 0], data.iloc[173:259, 0]\n",
    "train3, test3 = data.iloc[:259, 0], data.iloc[259:345, 0]\n",
    "train4, test4 = data.iloc[:345, 0], data.iloc[345:431, 0]"
   ]
  },
  {
   "cell_type": "code",
   "execution_count": 61,
   "metadata": {},
   "outputs": [
    {
     "name": "stderr",
     "output_type": "stream",
     "text": [
      "/Users/radhikagarg/opt/anaconda3/lib/python3.8/site-packages/statsmodels/tsa/base/tsa_model.py:524: ValueWarning: No frequency information was provided, so inferred frequency D will be used.\n",
      "  warnings.warn('No frequency information was'\n",
      "/Users/radhikagarg/opt/anaconda3/lib/python3.8/site-packages/statsmodels/tsa/base/tsa_model.py:524: ValueWarning: No frequency information was provided, so inferred frequency D will be used.\n",
      "  warnings.warn('No frequency information was'\n",
      "/Users/radhikagarg/opt/anaconda3/lib/python3.8/site-packages/statsmodels/tsa/base/tsa_model.py:524: ValueWarning: No frequency information was provided, so inferred frequency D will be used.\n",
      "  warnings.warn('No frequency information was'\n",
      "/Users/radhikagarg/opt/anaconda3/lib/python3.8/site-packages/statsmodels/tsa/base/tsa_model.py:524: ValueWarning: No frequency information was provided, so inferred frequency D will be used.\n",
      "  warnings.warn('No frequency information was'\n",
      "/Users/radhikagarg/opt/anaconda3/lib/python3.8/site-packages/statsmodels/tsa/base/tsa_model.py:524: ValueWarning: No frequency information was provided, so inferred frequency D will be used.\n",
      "  warnings.warn('No frequency information was'\n",
      "/Users/radhikagarg/opt/anaconda3/lib/python3.8/site-packages/statsmodels/tsa/base/tsa_model.py:524: ValueWarning: No frequency information was provided, so inferred frequency D will be used.\n",
      "  warnings.warn('No frequency information was'\n",
      "/Users/radhikagarg/opt/anaconda3/lib/python3.8/site-packages/statsmodels/tsa/base/tsa_model.py:524: ValueWarning: No frequency information was provided, so inferred frequency D will be used.\n",
      "  warnings.warn('No frequency information was'\n",
      "/Users/radhikagarg/opt/anaconda3/lib/python3.8/site-packages/statsmodels/tsa/base/tsa_model.py:524: ValueWarning: No frequency information was provided, so inferred frequency D will be used.\n",
      "  warnings.warn('No frequency information was'\n"
     ]
    },
    {
     "name": "stdout",
     "output_type": "stream",
     "text": [
      "RMSE1: 0.03\n",
      "RMSE2: 0.07\n",
      "RMSE3: 0.07\n",
      "RMSE4: 0.66\n",
      "Overall RMSE: 0.21\n"
     ]
    },
    {
     "name": "stderr",
     "output_type": "stream",
     "text": [
      "/Users/radhikagarg/opt/anaconda3/lib/python3.8/site-packages/statsmodels/base/model.py:566: ConvergenceWarning: Maximum Likelihood optimization failed to converge. Check mle_retvals\n",
      "  warnings.warn(\"Maximum Likelihood optimization failed to \"\n"
     ]
    }
   ],
   "source": [
    "from sklearn.metrics import mean_squared_error\n",
    "from math import sqrt\n",
    "\n",
    "#First fold RMSE\n",
    "model1 = sm.tsa.statespace.SARIMAX(train1, order=(3,2,1),seasonal_oreder=(0,0,0)).fit()\n",
    "pred1 = model1.predict(start=test1.index[0], end=test1.index[-1])\n",
    "RMSE1=round(sqrt(mean_squared_error(test1, pred1)),2)\n",
    "\n",
    "#Second fold RMSE\n",
    "model2 = sm.tsa.statespace.SARIMAX(train2, order=(3,2,1),seasonal_oreder=(0,0,0,0)).fit()\n",
    "pred2 = model2.predict(start=test2.index[0], end=test2.index[-1])\n",
    "RMSE2=round(sqrt(mean_squared_error(test2, pred2)),2)\n",
    "\n",
    "#Third fold RMSE\n",
    "model3 = sm.tsa.statespace.SARIMAX(train3, order=(3,2,1),seasonal_oreder=(0,0,0,0)).fit()\n",
    "pred3 = model3.predict(start=test3.index[0], end=test3.index[-1])\n",
    "RMSE3=round(sqrt(mean_squared_error(test3, pred3)),2)\n",
    "\n",
    "model4 = sm.tsa.statespace.SARIMAX(train4, order=(3,2,1),seasonal_oreder=(0,0,0,0)).fit()\n",
    "pred4 = model3.predict(start=test4.index[0], end=test4.index[-1])\n",
    "RMSE4=round(sqrt(mean_squared_error(test4, pred4)),2)\n",
    "\n",
    "\n",
    "\n",
    "print (\"RMSE1:\", RMSE1)\n",
    "print (\"RMSE2:\", RMSE2)\n",
    "print (\"RMSE3:\", RMSE3)\n",
    "print (\"RMSE4:\", RMSE4)\n",
    "\n",
    "Overall_RMSE=round((RMSE1+RMSE2+RMSE3+RMSE4)/4,2)\n",
    "print (\"Overall RMSE:\", Overall_RMSE) \n"
   ]
  },
  {
   "cell_type": "code",
   "execution_count": 62,
   "metadata": {},
   "outputs": [
    {
     "data": {
      "text/plain": [
       "<matplotlib.patches.Polygon at 0x7fa7d43e3be0>"
      ]
     },
     "execution_count": 62,
     "metadata": {},
     "output_type": "execute_result"
    },
    {
     "data": {
      "image/png": "[encoded data removed]",
      "text/plain": [
       "<Figure size 1008x576 with 1 Axes>"
      ]
     },
     "metadata": {
      "needs_background": "light"
     },
     "output_type": "display_data"
    }
   ],
   "source": [
    "#plt.style.use('fivethirtyeight')\n",
    "from pylab import rcParams\n",
    "rcParams['figure.figsize'] = 14,8\n",
    "\n",
    "#Labels and titles\n",
    "plt.xlabel(\"Date\")\n",
    "plt.ylabel(\"Closing Price\")\n",
    "plt.title(\"4 fold cross-validation\")\n",
    "\n",
    "#First fold- CV\n",
    "plt.plot(train1.index, train1, label='Train1')\n",
    "plt.plot(test1.index, test1, label='Test1')\n",
    "plt.plot(pred1.index, pred1, label='SARIMAX1')\n",
    "plt.legend(loc='best')\n",
    "#Highlighting the region\n",
    "plt.axvspan(test1.index[0], test1.index[-1],  facecolor='g', alpha=0.1)\n",
    "\n",
    "#Second fold\n",
    "plt.plot(train2.index, train2, label='Train2')\n",
    "plt.plot(test2.index, test2, label='Test2')\n",
    "plt.plot(pred2.index, pred2, label='SARIMAX2')\n",
    "plt.legend(loc='best')\n",
    "#Highlighting the region\n",
    "plt.axvspan(test2.index[0], test2.index[-1],  facecolor='r', alpha=0.2)\n",
    "\n",
    "#Third fold\n",
    "plt.plot(test3.index, test3, label='Test3')\n",
    "plt.plot(pred3.index, pred3, label='SARIMAX3')\n",
    "plt.legend(loc='best')\n",
    "#Highlighting the region\n",
    "plt.axvspan(test3.index[0], test3.index[-1],  facecolor='b', alpha=0.3)\n",
    "\n",
    "#Third fold\n",
    "plt.plot(test4.index, test4, label='Test4')\n",
    "plt.plot(pred4.index, pred4, label='SARIMAX4')\n",
    "plt.legend(loc='best')\n",
    "#Highlighting the region\n",
    "plt.axvspan(test4.index[0], test4.index[-1],  facecolor='y', alpha=0.3)\n"
   ]
  },
  {
   "cell_type": "code",
   "execution_count": null,
   "metadata": {},
   "outputs": [],
   "source": []
  }
 ],
 "metadata": {
  "kernelspec": {
   "display_name": "Python 3",
   "language": "python",
   "name": "python3"
  },
  "language_info": {
   "codemirror_mode": {
    "name": "ipython",
    "version": 3
   },
   "file_extension": ".py",
   "mimetype": "text/x-python",
   "name": "python",
   "nbconvert_exporter": "python",
   "pygments_lexer": "ipython3",
   "version": "3.8.5"
  }
 },
 "nbformat": 4,
 "nbformat_minor": 4
}
